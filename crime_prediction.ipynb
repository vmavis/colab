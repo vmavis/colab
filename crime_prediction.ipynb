{
  "cells": [
    {
      "cell_type": "markdown",
      "metadata": {
        "id": "view-in-github",
        "colab_type": "text"
      },
      "source": [
        "<a href=\"https://colab.research.google.com/github/vmavis/colab/blob/main/crime_prediction.ipynb\" target=\"_parent\"><img src=\"https://colab.research.google.com/assets/colab-badge.svg\" alt=\"Open In Colab\"/></a>"
      ]
    },
    {
      "cell_type": "markdown",
      "metadata": {
        "id": "w92VkdHFolz2"
      },
      "source": [
        "[Dataset Link](https://data.cityofchicago.org/Public-Safety/Crimes-2001-to-present/ijzp-q8t2/data)\n",
        "## <strong>Dataset Description</strong>\n",
        "<br>\n",
        " <strong>a record of the crimes that have occurred in Chicago</strong>\n",
        " <br>\n",
        "<ul><li><strong>Domestic :</strong> Indicates whether the incident was domestic-related as defined by the Illinois Domestic Violence Act.</li>\n",
        "    <li><strong>Beat :</strong> Indicates the beat where the incident occurred. A beat is the smallest police geographic area – each beat has a dedicated police beat car. Three to five beats make up a police sector, and three sectors make up a police district. The Chicago Police Department has 22 police districts.</li>\n",
        "    <li><strong>District :</strong> Indicates the police district where the incident occurred</li>\n",
        "    <li><strong>Ward :</strong> The ward(City Council District) where the incident occurred</li>\n",
        "    <li><strong>Community Are :</strong> Indicates the community area where the incident occurred. Chicago has 77 community areas.</li>\n",
        "    <li><strong>FBI Code :</strong> Indicates the crime classification as outlined in the FBI's National Incident-Based Reporting System (NIBRS).</li>\n",
        "    <li><strong>Date :</strong> A given month (1 : January, 12 : December); a given hour (1 to 23)</li>\n",
        "</ul>"
      ]
    },
    {
      "cell_type": "markdown",
      "metadata": {
        "id": "mwgBZanMolz9"
      },
      "source": [
        "**NOTES:**\n",
        "<li>You are required to build <strong>'the BEST and suitable'</strong> supervised machine learning model for the given dataset. The model may be used for the effective deployment of police officers in a city across several districts regarding the degree to which each area is prone to crime at a particular hour, day, and month. </li>\n",
        "<li>Build multiple potentially suitable machine learning models (at least 2 different machine learning models).</li>\n",
        "<li>You have to evaluate the models using at least 2 performance metrics before choose what you assume to be the `\"best\"` model for the given dataset.</li>"
      ]
    },
    {
      "cell_type": "markdown",
      "metadata": {
        "id": "7cUoZZ2hol0A"
      },
      "source": [
        "**HINT:**\n",
        "1. You need to generate the target feature by **performing feature engineering on `Date` and `Primary Type` features** to group crimes together\n",
        "<br>\n",
        "2. Level of Crime Rate:\n",
        "<ul><li><strong>0-14 : </strong>Low Crime Rate</li>\n",
        "<li><strong>15-33 : </strong>Medium Crime Rate</li>\n",
        "<li><strong>34 and above : </strong>High Crime Rate</li>\n",
        "<br>\n",
        "3. You may need to check the data proportion in each class (imbalance/not)"
      ]
    },
    {
      "cell_type": "markdown",
      "metadata": {
        "id": "xr9VILOiol0D"
      },
      "source": [
        "## 1. Load the Neccessary Libraries and Data (2 pts.)"
      ]
    },
    {
      "cell_type": "markdown",
      "metadata": {
        "id": "Hy8OobjLol0N"
      },
      "source": [
        "We import all the required libraries and functions so we can run our code smoothly later."
      ]
    },
    {
      "cell_type": "code",
      "execution_count": null,
      "metadata": {
        "id": "ILC2X04jol0T"
      },
      "outputs": [],
      "source": [
        "import pandas as pd\n",
        "import numpy as np\n",
        "import scipy.stats as stats\n",
        "import matplotlib.pyplot as plt\n",
        "import seaborn as sns\n",
        "from sklearn.model_selection import train_test_split\n",
        "from sklearn.preprocessing import StandardScaler\n",
        "from sklearn.linear_model import LogisticRegression\n",
        "from sklearn.ensemble import RandomForestClassifier\n",
        "from sklearn.metrics import accuracy_score, f1_score"
      ]
    },
    {
      "cell_type": "markdown",
      "metadata": {
        "id": "QfDZgRVbol09"
      },
      "source": [
        "We import our data from our storage and assign it to a variable."
      ]
    },
    {
      "cell_type": "code",
      "execution_count": null,
      "metadata": {
        "id": "-oXpA2Svol1C"
      },
      "outputs": [],
      "source": [
        "data = pd.read_csv('C:/Users/User/Downloads/evenID.csv')"
      ]
    },
    {
      "cell_type": "markdown",
      "metadata": {
        "id": "tCWYL_gwol1E"
      },
      "source": [
        "## 2. Data Exploration (15 pts.)"
      ]
    },
    {
      "cell_type": "markdown",
      "metadata": {
        "id": "eh_og-1Yol1F"
      },
      "source": [
        "We use shape to see the number of rows and columns of our data set. From the output given, we can see that our data set has 1031744 rows and 23 columns."
      ]
    },
    {
      "cell_type": "code",
      "execution_count": null,
      "metadata": {
        "id": "02uUxBucol1G",
        "outputId": "731e3704-3f94-4156-aef2-4c5890dc9c44"
      },
      "outputs": [
        {
          "data": {
            "text/plain": [
              "(1031744, 23)"
            ]
          },
          "execution_count": 3,
          "metadata": {},
          "output_type": "execute_result"
        }
      ],
      "source": [
        "data.shape"
      ]
    },
    {
      "cell_type": "markdown",
      "metadata": {
        "id": "SMdwFRvDol1N"
      },
      "source": [
        "We use head() to see the first few rows of our data set. We can compare this to our csv file to make sure that we have imported the correct data set."
      ]
    },
    {
      "cell_type": "code",
      "execution_count": null,
      "metadata": {
        "id": "U0VRFAp5ol1O",
        "outputId": "b6542f67-8307-4796-ef35-87e66dd4e184"
      },
      "outputs": [
        {
          "data": {
            "text/html": [
              "<div>\n",
              "<style scoped>\n",
              "    .dataframe tbody tr th:only-of-type {\n",
              "        vertical-align: middle;\n",
              "    }\n",
              "\n",
              "    .dataframe tbody tr th {\n",
              "        vertical-align: top;\n",
              "    }\n",
              "\n",
              "    .dataframe thead th {\n",
              "        text-align: right;\n",
              "    }\n",
              "</style>\n",
              "<table border=\"1\" class=\"dataframe\">\n",
              "  <thead>\n",
              "    <tr style=\"text-align: right;\">\n",
              "      <th></th>\n",
              "      <th>Unnamed: 0</th>\n",
              "      <th>ID</th>\n",
              "      <th>Case Number</th>\n",
              "      <th>Date</th>\n",
              "      <th>Block</th>\n",
              "      <th>IUCR</th>\n",
              "      <th>Primary Type</th>\n",
              "      <th>Description</th>\n",
              "      <th>Location Description</th>\n",
              "      <th>Arrest</th>\n",
              "      <th>...</th>\n",
              "      <th>Ward</th>\n",
              "      <th>Community Area</th>\n",
              "      <th>FBI Code</th>\n",
              "      <th>X Coordinate</th>\n",
              "      <th>Y Coordinate</th>\n",
              "      <th>Year</th>\n",
              "      <th>Updated On</th>\n",
              "      <th>Latitude</th>\n",
              "      <th>Longitude</th>\n",
              "      <th>Location</th>\n",
              "    </tr>\n",
              "  </thead>\n",
              "  <tbody>\n",
              "    <tr>\n",
              "      <th>0</th>\n",
              "      <td>861410</td>\n",
              "      <td>11476552</td>\n",
              "      <td>JB475560</td>\n",
              "      <td>10/14/2018 06:51:00 PM</td>\n",
              "      <td>039XX W OGDEN AVE</td>\n",
              "      <td>0820</td>\n",
              "      <td>THEFT</td>\n",
              "      <td>$500 AND UNDER</td>\n",
              "      <td>SMALL RETAIL STORE</td>\n",
              "      <td>True</td>\n",
              "      <td>...</td>\n",
              "      <td>22.0</td>\n",
              "      <td>29.0</td>\n",
              "      <td>06</td>\n",
              "      <td>1150286.0</td>\n",
              "      <td>1889027.0</td>\n",
              "      <td>2018</td>\n",
              "      <td>10/21/2018 04:09:44 PM</td>\n",
              "      <td>41.851393</td>\n",
              "      <td>-87.723904</td>\n",
              "      <td>(41.851393305, -87.723903515)</td>\n",
              "    </tr>\n",
              "    <tr>\n",
              "      <th>1</th>\n",
              "      <td>783641</td>\n",
              "      <td>10828749</td>\n",
              "      <td>JA130110</td>\n",
              "      <td>01/25/2017 11:00:00 PM</td>\n",
              "      <td>011XX S OAKLEY BLVD</td>\n",
              "      <td>031A</td>\n",
              "      <td>ROBBERY</td>\n",
              "      <td>ARMED: HANDGUN</td>\n",
              "      <td>STREET</td>\n",
              "      <td>False</td>\n",
              "      <td>...</td>\n",
              "      <td>25.0</td>\n",
              "      <td>28.0</td>\n",
              "      <td>03</td>\n",
              "      <td>1161221.0</td>\n",
              "      <td>1894904.0</td>\n",
              "      <td>2017</td>\n",
              "      <td>02/14/2017 03:49:42 PM</td>\n",
              "      <td>41.867300</td>\n",
              "      <td>-87.683606</td>\n",
              "      <td>(41.867300404, -87.683606131)</td>\n",
              "    </tr>\n",
              "    <tr>\n",
              "      <th>2</th>\n",
              "      <td>650716</td>\n",
              "      <td>11031423</td>\n",
              "      <td>JA363907</td>\n",
              "      <td>07/26/2017 12:30:00 AM</td>\n",
              "      <td>018XX N CLARK ST</td>\n",
              "      <td>0910</td>\n",
              "      <td>MOTOR VEHICLE THEFT</td>\n",
              "      <td>AUTOMOBILE</td>\n",
              "      <td>PARKING LOT/GARAGE(NON.RESID.)</td>\n",
              "      <td>False</td>\n",
              "      <td>...</td>\n",
              "      <td>43.0</td>\n",
              "      <td>7.0</td>\n",
              "      <td>07</td>\n",
              "      <td>1174558.0</td>\n",
              "      <td>1912475.0</td>\n",
              "      <td>2017</td>\n",
              "      <td>02/10/2018 03:50:01 PM</td>\n",
              "      <td>41.915229</td>\n",
              "      <td>-87.634119</td>\n",
              "      <td>(41.915228778, -87.634118723)</td>\n",
              "    </tr>\n",
              "    <tr>\n",
              "      <th>3</th>\n",
              "      <td>496462</td>\n",
              "      <td>10430338</td>\n",
              "      <td>HZ168230</td>\n",
              "      <td>02/26/2016 03:00:00 AM</td>\n",
              "      <td>002XX W JACKSON BLVD</td>\n",
              "      <td>0860</td>\n",
              "      <td>THEFT</td>\n",
              "      <td>RETAIL THEFT</td>\n",
              "      <td>CONVENIENCE STORE</td>\n",
              "      <td>False</td>\n",
              "      <td>...</td>\n",
              "      <td>2.0</td>\n",
              "      <td>32.0</td>\n",
              "      <td>06</td>\n",
              "      <td>1174641.0</td>\n",
              "      <td>1898950.0</td>\n",
              "      <td>2016</td>\n",
              "      <td>02/10/2018 03:50:01 PM</td>\n",
              "      <td>41.878114</td>\n",
              "      <td>-87.634219</td>\n",
              "      <td>(41.878113603, -87.634218691)</td>\n",
              "    </tr>\n",
              "    <tr>\n",
              "      <th>4</th>\n",
              "      <td>946330</td>\n",
              "      <td>11361027</td>\n",
              "      <td>JB324433</td>\n",
              "      <td>06/26/2018 12:30:00 PM</td>\n",
              "      <td>0000X E MONROE ST</td>\n",
              "      <td>0890</td>\n",
              "      <td>THEFT</td>\n",
              "      <td>FROM BUILDING</td>\n",
              "      <td>SMALL RETAIL STORE</td>\n",
              "      <td>False</td>\n",
              "      <td>...</td>\n",
              "      <td>42.0</td>\n",
              "      <td>32.0</td>\n",
              "      <td>06</td>\n",
              "      <td>1176686.0</td>\n",
              "      <td>1899939.0</td>\n",
              "      <td>2018</td>\n",
              "      <td>07/03/2018 03:55:36 PM</td>\n",
              "      <td>41.880782</td>\n",
              "      <td>-87.626680</td>\n",
              "      <td>(41.880781519, -87.626680112)</td>\n",
              "    </tr>\n",
              "  </tbody>\n",
              "</table>\n",
              "<p>5 rows × 23 columns</p>\n",
              "</div>"
            ],
            "text/plain": [
              "   Unnamed: 0        ID Case Number                    Date  \\\n",
              "0      861410  11476552    JB475560  10/14/2018 06:51:00 PM   \n",
              "1      783641  10828749    JA130110  01/25/2017 11:00:00 PM   \n",
              "2      650716  11031423    JA363907  07/26/2017 12:30:00 AM   \n",
              "3      496462  10430338    HZ168230  02/26/2016 03:00:00 AM   \n",
              "4      946330  11361027    JB324433  06/26/2018 12:30:00 PM   \n",
              "\n",
              "                  Block  IUCR         Primary Type     Description  \\\n",
              "0     039XX W OGDEN AVE  0820                THEFT  $500 AND UNDER   \n",
              "1   011XX S OAKLEY BLVD  031A              ROBBERY  ARMED: HANDGUN   \n",
              "2      018XX N CLARK ST  0910  MOTOR VEHICLE THEFT      AUTOMOBILE   \n",
              "3  002XX W JACKSON BLVD  0860                THEFT    RETAIL THEFT   \n",
              "4     0000X E MONROE ST  0890                THEFT   FROM BUILDING   \n",
              "\n",
              "             Location Description  Arrest  ...  Ward  Community Area  \\\n",
              "0              SMALL RETAIL STORE    True  ...  22.0            29.0   \n",
              "1                          STREET   False  ...  25.0            28.0   \n",
              "2  PARKING LOT/GARAGE(NON.RESID.)   False  ...  43.0             7.0   \n",
              "3               CONVENIENCE STORE   False  ...   2.0            32.0   \n",
              "4              SMALL RETAIL STORE   False  ...  42.0            32.0   \n",
              "\n",
              "   FBI Code  X Coordinate  Y Coordinate  Year              Updated On  \\\n",
              "0        06     1150286.0     1889027.0  2018  10/21/2018 04:09:44 PM   \n",
              "1        03     1161221.0     1894904.0  2017  02/14/2017 03:49:42 PM   \n",
              "2        07     1174558.0     1912475.0  2017  02/10/2018 03:50:01 PM   \n",
              "3        06     1174641.0     1898950.0  2016  02/10/2018 03:50:01 PM   \n",
              "4        06     1176686.0     1899939.0  2018  07/03/2018 03:55:36 PM   \n",
              "\n",
              "    Latitude  Longitude                       Location  \n",
              "0  41.851393 -87.723904  (41.851393305, -87.723903515)  \n",
              "1  41.867300 -87.683606  (41.867300404, -87.683606131)  \n",
              "2  41.915229 -87.634119  (41.915228778, -87.634118723)  \n",
              "3  41.878114 -87.634219  (41.878113603, -87.634218691)  \n",
              "4  41.880782 -87.626680  (41.880781519, -87.626680112)  \n",
              "\n",
              "[5 rows x 23 columns]"
            ]
          },
          "execution_count": 4,
          "metadata": {},
          "output_type": "execute_result"
        }
      ],
      "source": [
        "data.head()"
      ]
    },
    {
      "cell_type": "markdown",
      "metadata": {
        "id": "MgejebYsol1P"
      },
      "source": [
        "We use info() to see the number of non-null records and the data type of each variable. From the output given, we can see that most variables with float data type have null values."
      ]
    },
    {
      "cell_type": "code",
      "execution_count": null,
      "metadata": {
        "id": "c4nJxqFyol1Q",
        "outputId": "b6b1306a-f2e0-425f-face-55bebdbe7263"
      },
      "outputs": [
        {
          "name": "stdout",
          "output_type": "stream",
          "text": [
            "<class 'pandas.core.frame.DataFrame'>\n",
            "RangeIndex: 1031744 entries, 0 to 1031743\n",
            "Data columns (total 23 columns):\n",
            " #   Column                Non-Null Count    Dtype  \n",
            "---  ------                --------------    -----  \n",
            " 0   Unnamed: 0            1031744 non-null  int64  \n",
            " 1   ID                    1031744 non-null  int64  \n",
            " 2   Case Number           1031744 non-null  object \n",
            " 3   Date                  1031744 non-null  object \n",
            " 4   Block                 1031744 non-null  object \n",
            " 5   IUCR                  1031744 non-null  object \n",
            " 6   Primary Type          1031744 non-null  object \n",
            " 7   Description           1031744 non-null  object \n",
            " 8   Location Description  1028467 non-null  object \n",
            " 9   Arrest                1031744 non-null  bool   \n",
            " 10  Domestic              1031744 non-null  bool   \n",
            " 11  Beat                  1031744 non-null  int64  \n",
            " 12  District              1031743 non-null  float64\n",
            " 13  Ward                  1031735 non-null  float64\n",
            " 14  Community Area        1031742 non-null  float64\n",
            " 15  FBI Code              1031744 non-null  object \n",
            " 16  X Coordinate          1019109 non-null  float64\n",
            " 17  Y Coordinate          1019109 non-null  float64\n",
            " 18  Year                  1031744 non-null  int64  \n",
            " 19  Updated On            1031744 non-null  object \n",
            " 20  Latitude              1019109 non-null  float64\n",
            " 21  Longitude             1019109 non-null  float64\n",
            " 22  Location              1019109 non-null  object \n",
            "dtypes: bool(2), float64(7), int64(4), object(10)\n",
            "memory usage: 167.3+ MB\n"
          ]
        }
      ],
      "source": [
        "data.info()"
      ]
    },
    {
      "cell_type": "markdown",
      "metadata": {
        "id": "1-A8Ek-Iol1S"
      },
      "source": [
        "We use hist() to put out the histograms of this data set. We are able to see the distribution of the numerical columns. I choose to visualise 6 columns which are shown below."
      ]
    },
    {
      "cell_type": "code",
      "execution_count": null,
      "metadata": {
        "id": "PT4lA3t_ol1T",
        "outputId": "f817aa6a-d841-4e3f-ebc8-efb1b4072a4a"
      },
      "outputs": [
        {
          "data": {
            "image/png": "[encoded data removed]",
            "text/plain": [
              "<Figure size 720x720 with 6 Axes>"
            ]
          },
          "metadata": {
            "needs_background": "light"
          },
          "output_type": "display_data"
        }
      ],
      "source": [
        "data_for_hist = data[['District', 'Ward', 'Community Area', 'Year', 'X Coordinate', 'Y Coordinate']]\n",
        "data_for_hist.hist(figsize=(10,10), color='aliceblue', edgecolor='steelblue')\n",
        "plt.show()"
      ]
    },
    {
      "cell_type": "markdown",
      "metadata": {
        "id": "l8NoG7q2ol1V"
      },
      "source": [
        "We use isnull() and sum() to collect the total number of null/missing values. We multiply it by 100 and divide it by the length of our data to see the percentage of the missing values. From the output given, we can see that the columns 'Latitude', 'Longitude', and 'Location' have the highest percentage of missing values."
      ]
    },
    {
      "cell_type": "code",
      "execution_count": null,
      "metadata": {
        "id": "KN8QzeLZol1Y",
        "outputId": "01c948f6-c02d-49ee-85f6-99ce5288702e"
      },
      "outputs": [
        {
          "data": {
            "text/plain": [
              "Unnamed: 0              0.000000\n",
              "ID                      0.000000\n",
              "Case Number             0.000000\n",
              "Date                    0.000000\n",
              "Block                   0.000000\n",
              "IUCR                    0.000000\n",
              "Primary Type            0.000000\n",
              "Description             0.000000\n",
              "Location Description    0.317618\n",
              "Arrest                  0.000000\n",
              "Domestic                0.000000\n",
              "Beat                    0.000000\n",
              "District                0.000097\n",
              "Ward                    0.000872\n",
              "Community Area          0.000194\n",
              "FBI Code                0.000000\n",
              "X Coordinate            1.224625\n",
              "Y Coordinate            1.224625\n",
              "Year                    0.000000\n",
              "Updated On              0.000000\n",
              "Latitude                1.224625\n",
              "Longitude               1.224625\n",
              "Location                1.224625\n",
              "dtype: float64"
            ]
          },
          "execution_count": 7,
          "metadata": {},
          "output_type": "execute_result"
        }
      ],
      "source": [
        "missingvalues = data.isnull().sum()*100/len(data)\n",
        "missingvalues"
      ]
    },
    {
      "cell_type": "markdown",
      "metadata": {
        "id": "v1dP-ZVAol1b"
      },
      "source": [
        "We use sns.heatmap() to plot the correlation of our numerical columns. From the output given, we can see that most correlations are quite low. One of the highest ones are between the columns 'Beat' and 'District' with a correlation of 1."
      ]
    },
    {
      "cell_type": "code",
      "execution_count": null,
      "metadata": {
        "id": "4_MeWag9ol1d",
        "outputId": "c54883c4-de6f-427d-95fd-8e713184774e"
      },
      "outputs": [
        {
          "data": {
            "image/png": "[encoded data removed]",
            "text/plain": [
              "<Figure size 864x864 with 2 Axes>"
            ]
          },
          "metadata": {
            "needs_background": "light"
          },
          "output_type": "display_data"
        }
      ],
      "source": [
        "plt.figure(figsize=(12,12))\n",
        "sns.heatmap(data.corr(), annot=True, fmt='.1f', cmap=\"twilight\")\n",
        "plt.show()"
      ]
    },
    {
      "cell_type": "markdown",
      "metadata": {
        "id": "ASqKJHmLol1g"
      },
      "source": [
        "We use pd.to_datetime() to change the datatype of the column 'Date' to datetime so we can separately obtain the hour, day, and month of each date."
      ]
    },
    {
      "cell_type": "code",
      "execution_count": null,
      "metadata": {
        "id": "zyFbsxH0ol1h"
      },
      "outputs": [],
      "source": [
        "data['Date'] =  pd.to_datetime(data['Date'], infer_datetime_format=True)\n",
        "data['Hour'] = data['Date'].dt.hour\n",
        "data['Day'] = data['Date'].dt.day\n",
        "data['Month'] = data['Date'].dt.month"
      ]
    },
    {
      "cell_type": "markdown",
      "metadata": {
        "id": "j-XEeoq_ol1j"
      },
      "source": [
        "We use countplot() to see the number of values of a certain column. We only take a look at a few columns and their 10 top values."
      ]
    },
    {
      "cell_type": "code",
      "execution_count": null,
      "metadata": {
        "id": "GredFcSrol1k",
        "outputId": "78ac3f84-6a83-43ef-fa86-2ada438285cf"
      },
      "outputs": [
        {
          "data": {
            "image/png": "[encoded data removed]",
            "text/plain": [
              "<Figure size 432x288 with 1 Axes>"
            ]
          },
          "metadata": {
            "needs_background": "light"
          },
          "output_type": "display_data"
        }
      ],
      "source": [
        "sns.countplot(y = 'Hour', data = data, order = data['Hour'].value_counts().iloc[:10].index, palette='pastel')\n",
        "plt.show()"
      ]
    },
    {
      "cell_type": "code",
      "execution_count": null,
      "metadata": {
        "id": "c1X5yWmbol1m",
        "outputId": "c8dd9a61-c465-401f-8bc7-f7d119632583"
      },
      "outputs": [
        {
          "data": {
            "image/png": "[encoded data removed]",
            "text/plain": [
              "<Figure size 432x288 with 1 Axes>"
            ]
          },
          "metadata": {
            "needs_background": "light"
          },
          "output_type": "display_data"
        }
      ],
      "source": [
        "sns.countplot(y = 'Day', data = data, order = data['Day'].value_counts().iloc[:10].index, palette='pastel')\n",
        "plt.show()"
      ]
    },
    {
      "cell_type": "code",
      "execution_count": null,
      "metadata": {
        "id": "ZHeKnIbzol1o",
        "outputId": "510ca6cf-f635-498b-cad3-b98f37994936"
      },
      "outputs": [
        {
          "data": {
            "image/png": "[encoded data removed]",
            "text/plain": [
              "<Figure size 432x288 with 1 Axes>"
            ]
          },
          "metadata": {
            "needs_background": "light"
          },
          "output_type": "display_data"
        }
      ],
      "source": [
        "sns.countplot(y = 'Month', data = data, order = data['Month'].value_counts().iloc[:10].index, palette='pastel')\n",
        "plt.show()"
      ]
    },
    {
      "cell_type": "code",
      "execution_count": null,
      "metadata": {
        "id": "Gl9MbR6Zol1p",
        "outputId": "86bca8f7-676c-44b2-d34f-f0860b0e2b07"
      },
      "outputs": [
        {
          "data": {
            "image/png": "[encoded data removed]",
            "text/plain": [
              "<Figure size 432x288 with 1 Axes>"
            ]
          },
          "metadata": {
            "needs_background": "light"
          },
          "output_type": "display_data"
        }
      ],
      "source": [
        "sns.countplot(y = 'Primary Type', data = data, order = data['Primary Type'].value_counts().iloc[:10].index, palette='pastel')\n",
        "plt.show()"
      ]
    },
    {
      "cell_type": "code",
      "execution_count": null,
      "metadata": {
        "id": "7L1CRj-Qol1q",
        "outputId": "b0ede21e-5b61-4d9e-ed39-b826a363e070"
      },
      "outputs": [
        {
          "data": {
            "image/png": "[encoded data removed]",
            "text/plain": [
              "<Figure size 432x288 with 1 Axes>"
            ]
          },
          "metadata": {
            "needs_background": "light"
          },
          "output_type": "display_data"
        }
      ],
      "source": [
        "sns.countplot(y = 'Location Description', data = data, order = data['Location Description'].value_counts().iloc[:10].index, palette='pastel')\n",
        "plt.show()"
      ]
    },
    {
      "cell_type": "code",
      "execution_count": null,
      "metadata": {
        "id": "Oe0rU25Jol1s",
        "outputId": "73474dfe-44bf-427b-afeb-75302c3fcea3"
      },
      "outputs": [
        {
          "data": {
            "image/png": "[encoded data removed]",
            "text/plain": [
              "<Figure size 432x288 with 1 Axes>"
            ]
          },
          "metadata": {
            "needs_background": "light"
          },
          "output_type": "display_data"
        }
      ],
      "source": [
        "sns.countplot(y = 'District', data = data, order = data['District'].value_counts().iloc[:10].index, palette='pastel')\n",
        "plt.show()"
      ]
    },
    {
      "cell_type": "code",
      "execution_count": null,
      "metadata": {
        "id": "c1yxYA60ol1u",
        "outputId": "859e7ed2-a4eb-4197-fbb9-bf21eb0c52f8"
      },
      "outputs": [
        {
          "data": {
            "image/png": "[encoded data removed]",
            "text/plain": [
              "<Figure size 432x288 with 1 Axes>"
            ]
          },
          "metadata": {
            "needs_background": "light"
          },
          "output_type": "display_data"
        }
      ],
      "source": [
        "sns.countplot(y = 'Ward', data = data, order = data['Ward'].value_counts().iloc[:10].index, palette='pastel')\n",
        "plt.show()"
      ]
    },
    {
      "cell_type": "code",
      "execution_count": null,
      "metadata": {
        "id": "Cw5T1v0Tol1v",
        "outputId": "30016389-c813-4d79-908b-5dc390f5ed5e"
      },
      "outputs": [
        {
          "data": {
            "image/png": "[encoded data removed]",
            "text/plain": [
              "<Figure size 432x288 with 1 Axes>"
            ]
          },
          "metadata": {
            "needs_background": "light"
          },
          "output_type": "display_data"
        }
      ],
      "source": [
        "sns.countplot(y = 'Community Area', data = data, order = data['Community Area'].value_counts().iloc[:10].index, palette='pastel')\n",
        "plt.show()"
      ]
    },
    {
      "cell_type": "code",
      "execution_count": null,
      "metadata": {
        "id": "Eiu8-yHTol1x",
        "outputId": "f75aed1c-6683-45f1-962b-e9bb54b22ede"
      },
      "outputs": [
        {
          "data": {
            "image/png": "[encoded data removed]",
            "text/plain": [
              "<Figure size 432x288 with 1 Axes>"
            ]
          },
          "metadata": {
            "needs_background": "light"
          },
          "output_type": "display_data"
        }
      ],
      "source": [
        "sns.countplot(y = 'Arrest', data = data, order = data['Arrest'].value_counts().iloc[:10].index, palette='pastel')\n",
        "plt.show()"
      ]
    },
    {
      "cell_type": "markdown",
      "metadata": {
        "id": "JCnyMvTrol1z"
      },
      "source": [
        "We use pd.crosstab() to see the frequency of each crime that happens at each time. We can see that battery, sexual assault, criminal damage, etc happened on 1st of January 2015 at 1 a.m."
      ]
    },
    {
      "cell_type": "code",
      "execution_count": null,
      "metadata": {
        "id": "Q-vFpFouol10",
        "outputId": "eafa6a75-9ceb-4778-e731-89326d787cca"
      },
      "outputs": [
        {
          "data": {
            "text/html": [
              "<div>\n",
              "<style scoped>\n",
              "    .dataframe tbody tr th:only-of-type {\n",
              "        vertical-align: middle;\n",
              "    }\n",
              "\n",
              "    .dataframe tbody tr th {\n",
              "        vertical-align: top;\n",
              "    }\n",
              "\n",
              "    .dataframe thead th {\n",
              "        text-align: right;\n",
              "    }\n",
              "</style>\n",
              "<table border=\"1\" class=\"dataframe\">\n",
              "  <thead>\n",
              "    <tr style=\"text-align: right;\">\n",
              "      <th>Primary Type</th>\n",
              "      <th>ARSON</th>\n",
              "      <th>ASSAULT</th>\n",
              "      <th>BATTERY</th>\n",
              "      <th>BURGLARY</th>\n",
              "      <th>CONCEALED CARRY LICENSE VIOLATION</th>\n",
              "      <th>CRIM SEXUAL ASSAULT</th>\n",
              "      <th>CRIMINAL DAMAGE</th>\n",
              "      <th>CRIMINAL TRESPASS</th>\n",
              "      <th>DECEPTIVE PRACTICE</th>\n",
              "      <th>GAMBLING</th>\n",
              "      <th>...</th>\n",
              "      <th>OTHER NARCOTIC VIOLATION</th>\n",
              "      <th>OTHER OFFENSE</th>\n",
              "      <th>PROSTITUTION</th>\n",
              "      <th>PUBLIC INDECENCY</th>\n",
              "      <th>PUBLIC PEACE VIOLATION</th>\n",
              "      <th>ROBBERY</th>\n",
              "      <th>SEX OFFENSE</th>\n",
              "      <th>STALKING</th>\n",
              "      <th>THEFT</th>\n",
              "      <th>WEAPONS VIOLATION</th>\n",
              "    </tr>\n",
              "    <tr>\n",
              "      <th>Date</th>\n",
              "      <th></th>\n",
              "      <th></th>\n",
              "      <th></th>\n",
              "      <th></th>\n",
              "      <th></th>\n",
              "      <th></th>\n",
              "      <th></th>\n",
              "      <th></th>\n",
              "      <th></th>\n",
              "      <th></th>\n",
              "      <th></th>\n",
              "      <th></th>\n",
              "      <th></th>\n",
              "      <th></th>\n",
              "      <th></th>\n",
              "      <th></th>\n",
              "      <th></th>\n",
              "      <th></th>\n",
              "      <th></th>\n",
              "      <th></th>\n",
              "      <th></th>\n",
              "    </tr>\n",
              "  </thead>\n",
              "  <tbody>\n",
              "    <tr>\n",
              "      <th>2015-01-01 00:00:00</th>\n",
              "      <td>0</td>\n",
              "      <td>0</td>\n",
              "      <td>3</td>\n",
              "      <td>0</td>\n",
              "      <td>0</td>\n",
              "      <td>26</td>\n",
              "      <td>2</td>\n",
              "      <td>0</td>\n",
              "      <td>28</td>\n",
              "      <td>0</td>\n",
              "      <td>...</td>\n",
              "      <td>0</td>\n",
              "      <td>6</td>\n",
              "      <td>0</td>\n",
              "      <td>0</td>\n",
              "      <td>0</td>\n",
              "      <td>0</td>\n",
              "      <td>15</td>\n",
              "      <td>0</td>\n",
              "      <td>2</td>\n",
              "      <td>1</td>\n",
              "    </tr>\n",
              "    <tr>\n",
              "      <th>2015-01-01 00:01:00</th>\n",
              "      <td>0</td>\n",
              "      <td>0</td>\n",
              "      <td>3</td>\n",
              "      <td>1</td>\n",
              "      <td>0</td>\n",
              "      <td>25</td>\n",
              "      <td>4</td>\n",
              "      <td>0</td>\n",
              "      <td>36</td>\n",
              "      <td>0</td>\n",
              "      <td>...</td>\n",
              "      <td>0</td>\n",
              "      <td>3</td>\n",
              "      <td>0</td>\n",
              "      <td>0</td>\n",
              "      <td>0</td>\n",
              "      <td>0</td>\n",
              "      <td>16</td>\n",
              "      <td>0</td>\n",
              "      <td>9</td>\n",
              "      <td>2</td>\n",
              "    </tr>\n",
              "    <tr>\n",
              "      <th>2015-01-01 00:02:00</th>\n",
              "      <td>0</td>\n",
              "      <td>0</td>\n",
              "      <td>0</td>\n",
              "      <td>0</td>\n",
              "      <td>0</td>\n",
              "      <td>0</td>\n",
              "      <td>0</td>\n",
              "      <td>0</td>\n",
              "      <td>0</td>\n",
              "      <td>0</td>\n",
              "      <td>...</td>\n",
              "      <td>0</td>\n",
              "      <td>0</td>\n",
              "      <td>0</td>\n",
              "      <td>0</td>\n",
              "      <td>0</td>\n",
              "      <td>0</td>\n",
              "      <td>0</td>\n",
              "      <td>0</td>\n",
              "      <td>0</td>\n",
              "      <td>1</td>\n",
              "    </tr>\n",
              "    <tr>\n",
              "      <th>2015-01-01 00:03:00</th>\n",
              "      <td>0</td>\n",
              "      <td>0</td>\n",
              "      <td>0</td>\n",
              "      <td>0</td>\n",
              "      <td>0</td>\n",
              "      <td>0</td>\n",
              "      <td>0</td>\n",
              "      <td>0</td>\n",
              "      <td>0</td>\n",
              "      <td>0</td>\n",
              "      <td>...</td>\n",
              "      <td>0</td>\n",
              "      <td>1</td>\n",
              "      <td>0</td>\n",
              "      <td>0</td>\n",
              "      <td>0</td>\n",
              "      <td>0</td>\n",
              "      <td>0</td>\n",
              "      <td>0</td>\n",
              "      <td>0</td>\n",
              "      <td>1</td>\n",
              "    </tr>\n",
              "    <tr>\n",
              "      <th>2015-01-01 00:04:00</th>\n",
              "      <td>0</td>\n",
              "      <td>0</td>\n",
              "      <td>0</td>\n",
              "      <td>0</td>\n",
              "      <td>0</td>\n",
              "      <td>0</td>\n",
              "      <td>0</td>\n",
              "      <td>0</td>\n",
              "      <td>0</td>\n",
              "      <td>0</td>\n",
              "      <td>...</td>\n",
              "      <td>0</td>\n",
              "      <td>0</td>\n",
              "      <td>0</td>\n",
              "      <td>0</td>\n",
              "      <td>0</td>\n",
              "      <td>0</td>\n",
              "      <td>0</td>\n",
              "      <td>0</td>\n",
              "      <td>0</td>\n",
              "      <td>1</td>\n",
              "    </tr>\n",
              "    <tr>\n",
              "      <th>...</th>\n",
              "      <td>...</td>\n",
              "      <td>...</td>\n",
              "      <td>...</td>\n",
              "      <td>...</td>\n",
              "      <td>...</td>\n",
              "      <td>...</td>\n",
              "      <td>...</td>\n",
              "      <td>...</td>\n",
              "      <td>...</td>\n",
              "      <td>...</td>\n",
              "      <td>...</td>\n",
              "      <td>...</td>\n",
              "      <td>...</td>\n",
              "      <td>...</td>\n",
              "      <td>...</td>\n",
              "      <td>...</td>\n",
              "      <td>...</td>\n",
              "      <td>...</td>\n",
              "      <td>...</td>\n",
              "      <td>...</td>\n",
              "      <td>...</td>\n",
              "    </tr>\n",
              "    <tr>\n",
              "      <th>2019-05-03 23:21:00</th>\n",
              "      <td>0</td>\n",
              "      <td>0</td>\n",
              "      <td>0</td>\n",
              "      <td>0</td>\n",
              "      <td>0</td>\n",
              "      <td>0</td>\n",
              "      <td>1</td>\n",
              "      <td>0</td>\n",
              "      <td>0</td>\n",
              "      <td>0</td>\n",
              "      <td>...</td>\n",
              "      <td>0</td>\n",
              "      <td>0</td>\n",
              "      <td>0</td>\n",
              "      <td>0</td>\n",
              "      <td>0</td>\n",
              "      <td>0</td>\n",
              "      <td>0</td>\n",
              "      <td>0</td>\n",
              "      <td>0</td>\n",
              "      <td>0</td>\n",
              "    </tr>\n",
              "    <tr>\n",
              "      <th>2019-05-03 23:25:00</th>\n",
              "      <td>0</td>\n",
              "      <td>0</td>\n",
              "      <td>0</td>\n",
              "      <td>0</td>\n",
              "      <td>0</td>\n",
              "      <td>0</td>\n",
              "      <td>0</td>\n",
              "      <td>0</td>\n",
              "      <td>0</td>\n",
              "      <td>0</td>\n",
              "      <td>...</td>\n",
              "      <td>0</td>\n",
              "      <td>1</td>\n",
              "      <td>0</td>\n",
              "      <td>0</td>\n",
              "      <td>0</td>\n",
              "      <td>0</td>\n",
              "      <td>0</td>\n",
              "      <td>0</td>\n",
              "      <td>0</td>\n",
              "      <td>0</td>\n",
              "    </tr>\n",
              "    <tr>\n",
              "      <th>2019-05-03 23:30:00</th>\n",
              "      <td>0</td>\n",
              "      <td>0</td>\n",
              "      <td>0</td>\n",
              "      <td>0</td>\n",
              "      <td>0</td>\n",
              "      <td>0</td>\n",
              "      <td>0</td>\n",
              "      <td>0</td>\n",
              "      <td>0</td>\n",
              "      <td>0</td>\n",
              "      <td>...</td>\n",
              "      <td>0</td>\n",
              "      <td>0</td>\n",
              "      <td>0</td>\n",
              "      <td>0</td>\n",
              "      <td>0</td>\n",
              "      <td>0</td>\n",
              "      <td>0</td>\n",
              "      <td>0</td>\n",
              "      <td>1</td>\n",
              "      <td>0</td>\n",
              "    </tr>\n",
              "    <tr>\n",
              "      <th>2019-05-03 23:33:00</th>\n",
              "      <td>0</td>\n",
              "      <td>0</td>\n",
              "      <td>0</td>\n",
              "      <td>0</td>\n",
              "      <td>0</td>\n",
              "      <td>0</td>\n",
              "      <td>0</td>\n",
              "      <td>1</td>\n",
              "      <td>0</td>\n",
              "      <td>0</td>\n",
              "      <td>...</td>\n",
              "      <td>0</td>\n",
              "      <td>0</td>\n",
              "      <td>0</td>\n",
              "      <td>0</td>\n",
              "      <td>0</td>\n",
              "      <td>0</td>\n",
              "      <td>0</td>\n",
              "      <td>0</td>\n",
              "      <td>0</td>\n",
              "      <td>0</td>\n",
              "    </tr>\n",
              "    <tr>\n",
              "      <th>2019-05-03 23:40:00</th>\n",
              "      <td>0</td>\n",
              "      <td>0</td>\n",
              "      <td>0</td>\n",
              "      <td>0</td>\n",
              "      <td>0</td>\n",
              "      <td>0</td>\n",
              "      <td>0</td>\n",
              "      <td>0</td>\n",
              "      <td>0</td>\n",
              "      <td>0</td>\n",
              "      <td>...</td>\n",
              "      <td>0</td>\n",
              "      <td>0</td>\n",
              "      <td>0</td>\n",
              "      <td>0</td>\n",
              "      <td>0</td>\n",
              "      <td>0</td>\n",
              "      <td>0</td>\n",
              "      <td>0</td>\n",
              "      <td>0</td>\n",
              "      <td>0</td>\n",
              "    </tr>\n",
              "  </tbody>\n",
              "</table>\n",
              "<p>471516 rows × 33 columns</p>\n",
              "</div>"
            ],
            "text/plain": [
              "Primary Type         ARSON  ASSAULT  BATTERY  BURGLARY  \\\n",
              "Date                                                     \n",
              "2015-01-01 00:00:00      0        0        3         0   \n",
              "2015-01-01 00:01:00      0        0        3         1   \n",
              "2015-01-01 00:02:00      0        0        0         0   \n",
              "2015-01-01 00:03:00      0        0        0         0   \n",
              "2015-01-01 00:04:00      0        0        0         0   \n",
              "...                    ...      ...      ...       ...   \n",
              "2019-05-03 23:21:00      0        0        0         0   \n",
              "2019-05-03 23:25:00      0        0        0         0   \n",
              "2019-05-03 23:30:00      0        0        0         0   \n",
              "2019-05-03 23:33:00      0        0        0         0   \n",
              "2019-05-03 23:40:00      0        0        0         0   \n",
              "\n",
              "Primary Type         CONCEALED CARRY LICENSE VIOLATION  CRIM SEXUAL ASSAULT  \\\n",
              "Date                                                                          \n",
              "2015-01-01 00:00:00                                  0                   26   \n",
              "2015-01-01 00:01:00                                  0                   25   \n",
              "2015-01-01 00:02:00                                  0                    0   \n",
              "2015-01-01 00:03:00                                  0                    0   \n",
              "2015-01-01 00:04:00                                  0                    0   \n",
              "...                                                ...                  ...   \n",
              "2019-05-03 23:21:00                                  0                    0   \n",
              "2019-05-03 23:25:00                                  0                    0   \n",
              "2019-05-03 23:30:00                                  0                    0   \n",
              "2019-05-03 23:33:00                                  0                    0   \n",
              "2019-05-03 23:40:00                                  0                    0   \n",
              "\n",
              "Primary Type         CRIMINAL DAMAGE  CRIMINAL TRESPASS  DECEPTIVE PRACTICE  \\\n",
              "Date                                                                          \n",
              "2015-01-01 00:00:00                2                  0                  28   \n",
              "2015-01-01 00:01:00                4                  0                  36   \n",
              "2015-01-01 00:02:00                0                  0                   0   \n",
              "2015-01-01 00:03:00                0                  0                   0   \n",
              "2015-01-01 00:04:00                0                  0                   0   \n",
              "...                              ...                ...                 ...   \n",
              "2019-05-03 23:21:00                1                  0                   0   \n",
              "2019-05-03 23:25:00                0                  0                   0   \n",
              "2019-05-03 23:30:00                0                  0                   0   \n",
              "2019-05-03 23:33:00                0                  1                   0   \n",
              "2019-05-03 23:40:00                0                  0                   0   \n",
              "\n",
              "Primary Type         GAMBLING  ...  OTHER NARCOTIC VIOLATION  OTHER OFFENSE  \\\n",
              "Date                           ...                                            \n",
              "2015-01-01 00:00:00         0  ...                         0              6   \n",
              "2015-01-01 00:01:00         0  ...                         0              3   \n",
              "2015-01-01 00:02:00         0  ...                         0              0   \n",
              "2015-01-01 00:03:00         0  ...                         0              1   \n",
              "2015-01-01 00:04:00         0  ...                         0              0   \n",
              "...                       ...  ...                       ...            ...   \n",
              "2019-05-03 23:21:00         0  ...                         0              0   \n",
              "2019-05-03 23:25:00         0  ...                         0              1   \n",
              "2019-05-03 23:30:00         0  ...                         0              0   \n",
              "2019-05-03 23:33:00         0  ...                         0              0   \n",
              "2019-05-03 23:40:00         0  ...                         0              0   \n",
              "\n",
              "Primary Type         PROSTITUTION  PUBLIC INDECENCY  PUBLIC PEACE VIOLATION  \\\n",
              "Date                                                                          \n",
              "2015-01-01 00:00:00             0                 0                       0   \n",
              "2015-01-01 00:01:00             0                 0                       0   \n",
              "2015-01-01 00:02:00             0                 0                       0   \n",
              "2015-01-01 00:03:00             0                 0                       0   \n",
              "2015-01-01 00:04:00             0                 0                       0   \n",
              "...                           ...               ...                     ...   \n",
              "2019-05-03 23:21:00             0                 0                       0   \n",
              "2019-05-03 23:25:00             0                 0                       0   \n",
              "2019-05-03 23:30:00             0                 0                       0   \n",
              "2019-05-03 23:33:00             0                 0                       0   \n",
              "2019-05-03 23:40:00             0                 0                       0   \n",
              "\n",
              "Primary Type         ROBBERY  SEX OFFENSE  STALKING  THEFT  WEAPONS VIOLATION  \n",
              "Date                                                                           \n",
              "2015-01-01 00:00:00        0           15         0      2                  1  \n",
              "2015-01-01 00:01:00        0           16         0      9                  2  \n",
              "2015-01-01 00:02:00        0            0         0      0                  1  \n",
              "2015-01-01 00:03:00        0            0         0      0                  1  \n",
              "2015-01-01 00:04:00        0            0         0      0                  1  \n",
              "...                      ...          ...       ...    ...                ...  \n",
              "2019-05-03 23:21:00        0            0         0      0                  0  \n",
              "2019-05-03 23:25:00        0            0         0      0                  0  \n",
              "2019-05-03 23:30:00        0            0         0      1                  0  \n",
              "2019-05-03 23:33:00        0            0         0      0                  0  \n",
              "2019-05-03 23:40:00        0            0         0      0                  0  \n",
              "\n",
              "[471516 rows x 33 columns]"
            ]
          },
          "execution_count": 20,
          "metadata": {},
          "output_type": "execute_result"
        }
      ],
      "source": [
        "pd.crosstab(data['Date'], data['Primary Type'])"
      ]
    },
    {
      "cell_type": "markdown",
      "metadata": {
        "id": "G9sdXiWaol11"
      },
      "source": [
        "We use data.columns and len() to compute the proportion of each class. We can see that the class 'object' is the most common while the class 'integer' is the least common. Since we do not have an extreme imbalance (less than 1% of total columns), we do not need to decide on a way to handle it."
      ]
    },
    {
      "cell_type": "code",
      "execution_count": null,
      "metadata": {
        "id": "QhoGZCynol2U",
        "outputId": "600ca47c-4f6c-466d-ec53-ea6a80150ef8"
      },
      "outputs": [
        {
          "data": {
            "text/plain": [
              "(26.923076923076923, 26.923076923076923, 34.61538461538461)"
            ]
          },
          "execution_count": 21,
          "metadata": {},
          "output_type": "execute_result"
        }
      ],
      "source": [
        "data_col = data.columns\n",
        "data_len = len(data_col)\n",
        "\n",
        "int_col = data.select_dtypes('int64').columns\n",
        "int_len = len(int_col)\n",
        "int_prop = (int_len/data_len)*100\n",
        "\n",
        "float_col = data.select_dtypes('float64').columns\n",
        "float_len = len(float_col)\n",
        "float_prop = (float_len/data_len)*100\n",
        "\n",
        "object_col = data.select_dtypes('object').columns\n",
        "object_len = len(object_col)\n",
        "object_prop = (object_len/data_len)*100\n",
        "\n",
        "int_prop, float_prop, object_prop"
      ]
    },
    {
      "cell_type": "markdown",
      "metadata": {
        "id": "XCOxQZ-Tol2V"
      },
      "source": [
        "## 3. Data Preparation (30 pts.)"
      ]
    },
    {
      "cell_type": "markdown",
      "metadata": {
        "id": "180BQoUbol2W"
      },
      "source": [
        "We drop all the columns we won't be using for our computation. We then only choose the name of each block as the block number should not concern us. We see the first few rows of our newly assigned data set to check if the columns have actually been removed."
      ]
    },
    {
      "cell_type": "code",
      "execution_count": null,
      "metadata": {
        "id": "fT3UamXdol2W",
        "outputId": "fcce2a95-f556-4c14-ed11-bcb10ca2ea3b"
      },
      "outputs": [
        {
          "data": {
            "text/html": [
              "<div>\n",
              "<style scoped>\n",
              "    .dataframe tbody tr th:only-of-type {\n",
              "        vertical-align: middle;\n",
              "    }\n",
              "\n",
              "    .dataframe tbody tr th {\n",
              "        vertical-align: top;\n",
              "    }\n",
              "\n",
              "    .dataframe thead th {\n",
              "        text-align: right;\n",
              "    }\n",
              "</style>\n",
              "<table border=\"1\" class=\"dataframe\">\n",
              "  <thead>\n",
              "    <tr style=\"text-align: right;\">\n",
              "      <th></th>\n",
              "      <th>Date</th>\n",
              "      <th>Block</th>\n",
              "      <th>Primary Type</th>\n",
              "      <th>Location Description</th>\n",
              "      <th>Arrest</th>\n",
              "      <th>Domestic</th>\n",
              "      <th>District</th>\n",
              "      <th>Ward</th>\n",
              "      <th>Community Area</th>\n",
              "      <th>X Coordinate</th>\n",
              "      <th>Y Coordinate</th>\n",
              "      <th>Year</th>\n",
              "      <th>Latitude</th>\n",
              "      <th>Longitude</th>\n",
              "      <th>Hour</th>\n",
              "      <th>Day</th>\n",
              "      <th>Month</th>\n",
              "    </tr>\n",
              "  </thead>\n",
              "  <tbody>\n",
              "    <tr>\n",
              "      <th>0</th>\n",
              "      <td>2018-10-14 18:51:00</td>\n",
              "      <td>OGDEN AVE</td>\n",
              "      <td>THEFT</td>\n",
              "      <td>SMALL RETAIL STORE</td>\n",
              "      <td>True</td>\n",
              "      <td>False</td>\n",
              "      <td>10.0</td>\n",
              "      <td>22.0</td>\n",
              "      <td>29.0</td>\n",
              "      <td>1150286.0</td>\n",
              "      <td>1889027.0</td>\n",
              "      <td>2018</td>\n",
              "      <td>41.851393</td>\n",
              "      <td>-87.723904</td>\n",
              "      <td>18</td>\n",
              "      <td>14</td>\n",
              "      <td>10</td>\n",
              "    </tr>\n",
              "    <tr>\n",
              "      <th>1</th>\n",
              "      <td>2017-01-25 23:00:00</td>\n",
              "      <td>OAKLEY BLVD</td>\n",
              "      <td>ROBBERY</td>\n",
              "      <td>STREET</td>\n",
              "      <td>False</td>\n",
              "      <td>False</td>\n",
              "      <td>12.0</td>\n",
              "      <td>25.0</td>\n",
              "      <td>28.0</td>\n",
              "      <td>1161221.0</td>\n",
              "      <td>1894904.0</td>\n",
              "      <td>2017</td>\n",
              "      <td>41.867300</td>\n",
              "      <td>-87.683606</td>\n",
              "      <td>23</td>\n",
              "      <td>25</td>\n",
              "      <td>1</td>\n",
              "    </tr>\n",
              "    <tr>\n",
              "      <th>2</th>\n",
              "      <td>2017-07-26 00:30:00</td>\n",
              "      <td>CLARK ST</td>\n",
              "      <td>MOTOR VEHICLE THEFT</td>\n",
              "      <td>PARKING LOT/GARAGE(NON.RESID.)</td>\n",
              "      <td>False</td>\n",
              "      <td>False</td>\n",
              "      <td>18.0</td>\n",
              "      <td>43.0</td>\n",
              "      <td>7.0</td>\n",
              "      <td>1174558.0</td>\n",
              "      <td>1912475.0</td>\n",
              "      <td>2017</td>\n",
              "      <td>41.915229</td>\n",
              "      <td>-87.634119</td>\n",
              "      <td>0</td>\n",
              "      <td>26</td>\n",
              "      <td>7</td>\n",
              "    </tr>\n",
              "    <tr>\n",
              "      <th>3</th>\n",
              "      <td>2016-02-26 03:00:00</td>\n",
              "      <td>JACKSON BLVD</td>\n",
              "      <td>THEFT</td>\n",
              "      <td>CONVENIENCE STORE</td>\n",
              "      <td>False</td>\n",
              "      <td>False</td>\n",
              "      <td>1.0</td>\n",
              "      <td>2.0</td>\n",
              "      <td>32.0</td>\n",
              "      <td>1174641.0</td>\n",
              "      <td>1898950.0</td>\n",
              "      <td>2016</td>\n",
              "      <td>41.878114</td>\n",
              "      <td>-87.634219</td>\n",
              "      <td>3</td>\n",
              "      <td>26</td>\n",
              "      <td>2</td>\n",
              "    </tr>\n",
              "    <tr>\n",
              "      <th>4</th>\n",
              "      <td>2018-06-26 12:30:00</td>\n",
              "      <td>MONROE ST</td>\n",
              "      <td>THEFT</td>\n",
              "      <td>SMALL RETAIL STORE</td>\n",
              "      <td>False</td>\n",
              "      <td>False</td>\n",
              "      <td>1.0</td>\n",
              "      <td>42.0</td>\n",
              "      <td>32.0</td>\n",
              "      <td>1176686.0</td>\n",
              "      <td>1899939.0</td>\n",
              "      <td>2018</td>\n",
              "      <td>41.880782</td>\n",
              "      <td>-87.626680</td>\n",
              "      <td>12</td>\n",
              "      <td>26</td>\n",
              "      <td>6</td>\n",
              "    </tr>\n",
              "  </tbody>\n",
              "</table>\n",
              "</div>"
            ],
            "text/plain": [
              "                 Date          Block         Primary Type  \\\n",
              "0 2018-10-14 18:51:00      OGDEN AVE                THEFT   \n",
              "1 2017-01-25 23:00:00    OAKLEY BLVD              ROBBERY   \n",
              "2 2017-07-26 00:30:00       CLARK ST  MOTOR VEHICLE THEFT   \n",
              "3 2016-02-26 03:00:00   JACKSON BLVD                THEFT   \n",
              "4 2018-06-26 12:30:00      MONROE ST                THEFT   \n",
              "\n",
              "             Location Description  Arrest  Domestic  District  Ward  \\\n",
              "0              SMALL RETAIL STORE    True     False      10.0  22.0   \n",
              "1                          STREET   False     False      12.0  25.0   \n",
              "2  PARKING LOT/GARAGE(NON.RESID.)   False     False      18.0  43.0   \n",
              "3               CONVENIENCE STORE   False     False       1.0   2.0   \n",
              "4              SMALL RETAIL STORE   False     False       1.0  42.0   \n",
              "\n",
              "   Community Area  X Coordinate  Y Coordinate  Year   Latitude  Longitude  \\\n",
              "0            29.0     1150286.0     1889027.0  2018  41.851393 -87.723904   \n",
              "1            28.0     1161221.0     1894904.0  2017  41.867300 -87.683606   \n",
              "2             7.0     1174558.0     1912475.0  2017  41.915229 -87.634119   \n",
              "3            32.0     1174641.0     1898950.0  2016  41.878114 -87.634219   \n",
              "4            32.0     1176686.0     1899939.0  2018  41.880782 -87.626680   \n",
              "\n",
              "   Hour  Day  Month  \n",
              "0    18   14     10  \n",
              "1    23   25      1  \n",
              "2     0   26      7  \n",
              "3     3   26      2  \n",
              "4    12   26      6  "
            ]
          },
          "execution_count": 22,
          "metadata": {},
          "output_type": "execute_result"
        }
      ],
      "source": [
        "df = data.drop(data.columns[[0,1,2,5,7,11,15,19,22]], axis=1)\n",
        "df['Block'] = df['Block'].str[7:]\n",
        "df.head()"
      ]
    },
    {
      "cell_type": "markdown",
      "metadata": {
        "id": "GvRIyZl-ol2X"
      },
      "source": [
        "We create a new column which shows the total number of crime that happens at each time. We group the column 'Primary Type' by the column 'Date' and use size() to compute the total number of each crime. We add the new column to our dataframe and name it 'Crime Rate'. We create another new column based on the new column we just created and name it 'Crime Rate Level'. We then see the first few rows of our dataframe to make sure we have the correct values."
      ]
    },
    {
      "cell_type": "code",
      "execution_count": null,
      "metadata": {
        "id": "mtBHhoafol2Y",
        "outputId": "f6de50ab-e6aa-4ab3-890a-bc8ac06082bd"
      },
      "outputs": [
        {
          "data": {
            "text/html": [
              "<div>\n",
              "<style scoped>\n",
              "    .dataframe tbody tr th:only-of-type {\n",
              "        vertical-align: middle;\n",
              "    }\n",
              "\n",
              "    .dataframe tbody tr th {\n",
              "        vertical-align: top;\n",
              "    }\n",
              "\n",
              "    .dataframe thead th {\n",
              "        text-align: right;\n",
              "    }\n",
              "</style>\n",
              "<table border=\"1\" class=\"dataframe\">\n",
              "  <thead>\n",
              "    <tr style=\"text-align: right;\">\n",
              "      <th></th>\n",
              "      <th>Date</th>\n",
              "      <th>Block</th>\n",
              "      <th>Primary Type</th>\n",
              "      <th>Location Description</th>\n",
              "      <th>Arrest</th>\n",
              "      <th>Domestic</th>\n",
              "      <th>District</th>\n",
              "      <th>Ward</th>\n",
              "      <th>Community Area</th>\n",
              "      <th>X Coordinate</th>\n",
              "      <th>Y Coordinate</th>\n",
              "      <th>Year</th>\n",
              "      <th>Latitude</th>\n",
              "      <th>Longitude</th>\n",
              "      <th>Hour</th>\n",
              "      <th>Day</th>\n",
              "      <th>Month</th>\n",
              "      <th>Crime Rate</th>\n",
              "      <th>Crime Rate Level</th>\n",
              "    </tr>\n",
              "  </thead>\n",
              "  <tbody>\n",
              "    <tr>\n",
              "      <th>0</th>\n",
              "      <td>2018-10-14 18:51:00</td>\n",
              "      <td>OGDEN AVE</td>\n",
              "      <td>THEFT</td>\n",
              "      <td>SMALL RETAIL STORE</td>\n",
              "      <td>True</td>\n",
              "      <td>False</td>\n",
              "      <td>10.0</td>\n",
              "      <td>22.0</td>\n",
              "      <td>29.0</td>\n",
              "      <td>1150286.0</td>\n",
              "      <td>1889027.0</td>\n",
              "      <td>2018</td>\n",
              "      <td>41.851393</td>\n",
              "      <td>-87.723904</td>\n",
              "      <td>18</td>\n",
              "      <td>14</td>\n",
              "      <td>10</td>\n",
              "      <td>1</td>\n",
              "      <td>Low</td>\n",
              "    </tr>\n",
              "    <tr>\n",
              "      <th>1</th>\n",
              "      <td>2017-01-25 23:00:00</td>\n",
              "      <td>OAKLEY BLVD</td>\n",
              "      <td>ROBBERY</td>\n",
              "      <td>STREET</td>\n",
              "      <td>False</td>\n",
              "      <td>False</td>\n",
              "      <td>12.0</td>\n",
              "      <td>25.0</td>\n",
              "      <td>28.0</td>\n",
              "      <td>1161221.0</td>\n",
              "      <td>1894904.0</td>\n",
              "      <td>2017</td>\n",
              "      <td>41.867300</td>\n",
              "      <td>-87.683606</td>\n",
              "      <td>23</td>\n",
              "      <td>25</td>\n",
              "      <td>1</td>\n",
              "      <td>7</td>\n",
              "      <td>Low</td>\n",
              "    </tr>\n",
              "    <tr>\n",
              "      <th>2</th>\n",
              "      <td>2017-07-26 00:30:00</td>\n",
              "      <td>CLARK ST</td>\n",
              "      <td>MOTOR VEHICLE THEFT</td>\n",
              "      <td>PARKING LOT/GARAGE(NON.RESID.)</td>\n",
              "      <td>False</td>\n",
              "      <td>False</td>\n",
              "      <td>18.0</td>\n",
              "      <td>43.0</td>\n",
              "      <td>7.0</td>\n",
              "      <td>1174558.0</td>\n",
              "      <td>1912475.0</td>\n",
              "      <td>2017</td>\n",
              "      <td>41.915229</td>\n",
              "      <td>-87.634119</td>\n",
              "      <td>0</td>\n",
              "      <td>26</td>\n",
              "      <td>7</td>\n",
              "      <td>6</td>\n",
              "      <td>Low</td>\n",
              "    </tr>\n",
              "    <tr>\n",
              "      <th>3</th>\n",
              "      <td>2016-02-26 03:00:00</td>\n",
              "      <td>JACKSON BLVD</td>\n",
              "      <td>THEFT</td>\n",
              "      <td>CONVENIENCE STORE</td>\n",
              "      <td>False</td>\n",
              "      <td>False</td>\n",
              "      <td>1.0</td>\n",
              "      <td>2.0</td>\n",
              "      <td>32.0</td>\n",
              "      <td>1174641.0</td>\n",
              "      <td>1898950.0</td>\n",
              "      <td>2016</td>\n",
              "      <td>41.878114</td>\n",
              "      <td>-87.634219</td>\n",
              "      <td>3</td>\n",
              "      <td>26</td>\n",
              "      <td>2</td>\n",
              "      <td>4</td>\n",
              "      <td>Low</td>\n",
              "    </tr>\n",
              "    <tr>\n",
              "      <th>4</th>\n",
              "      <td>2018-06-26 12:30:00</td>\n",
              "      <td>MONROE ST</td>\n",
              "      <td>THEFT</td>\n",
              "      <td>SMALL RETAIL STORE</td>\n",
              "      <td>False</td>\n",
              "      <td>False</td>\n",
              "      <td>1.0</td>\n",
              "      <td>42.0</td>\n",
              "      <td>32.0</td>\n",
              "      <td>1176686.0</td>\n",
              "      <td>1899939.0</td>\n",
              "      <td>2018</td>\n",
              "      <td>41.880782</td>\n",
              "      <td>-87.626680</td>\n",
              "      <td>12</td>\n",
              "      <td>26</td>\n",
              "      <td>6</td>\n",
              "      <td>5</td>\n",
              "      <td>Low</td>\n",
              "    </tr>\n",
              "  </tbody>\n",
              "</table>\n",
              "</div>"
            ],
            "text/plain": [
              "                 Date          Block         Primary Type  \\\n",
              "0 2018-10-14 18:51:00      OGDEN AVE                THEFT   \n",
              "1 2017-01-25 23:00:00    OAKLEY BLVD              ROBBERY   \n",
              "2 2017-07-26 00:30:00       CLARK ST  MOTOR VEHICLE THEFT   \n",
              "3 2016-02-26 03:00:00   JACKSON BLVD                THEFT   \n",
              "4 2018-06-26 12:30:00      MONROE ST                THEFT   \n",
              "\n",
              "             Location Description  Arrest  Domestic  District  Ward  \\\n",
              "0              SMALL RETAIL STORE    True     False      10.0  22.0   \n",
              "1                          STREET   False     False      12.0  25.0   \n",
              "2  PARKING LOT/GARAGE(NON.RESID.)   False     False      18.0  43.0   \n",
              "3               CONVENIENCE STORE   False     False       1.0   2.0   \n",
              "4              SMALL RETAIL STORE   False     False       1.0  42.0   \n",
              "\n",
              "   Community Area  X Coordinate  Y Coordinate  Year   Latitude  Longitude  \\\n",
              "0            29.0     1150286.0     1889027.0  2018  41.851393 -87.723904   \n",
              "1            28.0     1161221.0     1894904.0  2017  41.867300 -87.683606   \n",
              "2             7.0     1174558.0     1912475.0  2017  41.915229 -87.634119   \n",
              "3            32.0     1174641.0     1898950.0  2016  41.878114 -87.634219   \n",
              "4            32.0     1176686.0     1899939.0  2018  41.880782 -87.626680   \n",
              "\n",
              "   Hour  Day  Month  Crime Rate Crime Rate Level  \n",
              "0    18   14     10           1              Low  \n",
              "1    23   25      1           7              Low  \n",
              "2     0   26      7           6              Low  \n",
              "3     3   26      2           4              Low  \n",
              "4    12   26      6           5              Low  "
            ]
          },
          "execution_count": 23,
          "metadata": {},
          "output_type": "execute_result"
        }
      ],
      "source": [
        "df = df.join(df['Primary Type'].groupby(df['Date']).size(), on='Date', rsuffix='_r')\n",
        "df = df.rename(columns={'Primary Type_r':'Crime Rate'})\n",
        "conditions = [(df['Crime Rate'] >= 0) & (df['Crime Rate'] <= 14),\n",
        "              (df['Crime Rate'] >= 15) & (df['Crime Rate'] <= 33),\n",
        "              (df['Crime Rate'] >= 34)]\n",
        "values = ['Low', 'Medium', 'High']\n",
        "df['Crime Rate Level'] = np.select(conditions, values)\n",
        "df.head()"
      ]
    },
    {
      "cell_type": "markdown",
      "metadata": {
        "id": "ySe6OYT4ol2Y"
      },
      "source": [
        "We drop the null/missing values as they will hinder our computation. We then see the shape of our data set to check the current amount of rows and columns."
      ]
    },
    {
      "cell_type": "code",
      "execution_count": null,
      "metadata": {
        "id": "OdQYVA57ol2Z"
      },
      "outputs": [],
      "source": [
        "df = df.dropna()"
      ]
    },
    {
      "cell_type": "markdown",
      "metadata": {
        "id": "yL_fKCWZol2a"
      },
      "source": [
        "As we have a massive amount of records, it is better to pick out samples to run our models later on. We assign it to a new variable and see the shape to check the current amount of rows and columns."
      ]
    },
    {
      "cell_type": "code",
      "execution_count": null,
      "metadata": {
        "id": "06f-_JDDol2a",
        "outputId": "156aabfc-e918-4c06-c794-17078bb1152b"
      },
      "outputs": [
        {
          "data": {
            "text/plain": [
              "(500, 19)"
            ]
          },
          "execution_count": 25,
          "metadata": {},
          "output_type": "execute_result"
        }
      ],
      "source": [
        "df1 = df.sample(n=500, random_state=42)\n",
        "df1.shape"
      ]
    },
    {
      "cell_type": "markdown",
      "metadata": {
        "id": "JEUZwiMVol2a"
      },
      "source": [
        "We use StandardScaler() to scale our data. Our models later will be able to perform better if the data is on the same scale."
      ]
    },
    {
      "cell_type": "code",
      "execution_count": null,
      "metadata": {
        "id": "pVG06zXool2b",
        "outputId": "a0ab7edd-2e80-4a50-c42f-a4c749d7bf04"
      },
      "outputs": [
        {
          "data": {
            "text/html": [
              "<div>\n",
              "<style scoped>\n",
              "    .dataframe tbody tr th:only-of-type {\n",
              "        vertical-align: middle;\n",
              "    }\n",
              "\n",
              "    .dataframe tbody tr th {\n",
              "        vertical-align: top;\n",
              "    }\n",
              "\n",
              "    .dataframe thead th {\n",
              "        text-align: right;\n",
              "    }\n",
              "</style>\n",
              "<table border=\"1\" class=\"dataframe\">\n",
              "  <thead>\n",
              "    <tr style=\"text-align: right;\">\n",
              "      <th></th>\n",
              "      <th>Date</th>\n",
              "      <th>Block</th>\n",
              "      <th>Primary Type</th>\n",
              "      <th>Location Description</th>\n",
              "      <th>Arrest</th>\n",
              "      <th>Domestic</th>\n",
              "      <th>District</th>\n",
              "      <th>Ward</th>\n",
              "      <th>Community Area</th>\n",
              "      <th>X Coordinate</th>\n",
              "      <th>Y Coordinate</th>\n",
              "      <th>Year</th>\n",
              "      <th>Latitude</th>\n",
              "      <th>Longitude</th>\n",
              "      <th>Hour</th>\n",
              "      <th>Day</th>\n",
              "      <th>Month</th>\n",
              "      <th>Crime Rate</th>\n",
              "      <th>Crime Rate Level</th>\n",
              "    </tr>\n",
              "  </thead>\n",
              "  <tbody>\n",
              "    <tr>\n",
              "      <th>219816</th>\n",
              "      <td>2018-08-18 16:00:00</td>\n",
              "      <td>91ST ST</td>\n",
              "      <td>ASSAULT</td>\n",
              "      <td>APARTMENT</td>\n",
              "      <td>False</td>\n",
              "      <td>True</td>\n",
              "      <td>-0.632720</td>\n",
              "      <td>-0.045513</td>\n",
              "      <td>0.485777</td>\n",
              "      <td>1175573.0</td>\n",
              "      <td>1844584.0</td>\n",
              "      <td>2018</td>\n",
              "      <td>-1.269947</td>\n",
              "      <td>0.594075</td>\n",
              "      <td>16</td>\n",
              "      <td>18</td>\n",
              "      <td>8</td>\n",
              "      <td>12</td>\n",
              "      <td>Low</td>\n",
              "    </tr>\n",
              "    <tr>\n",
              "      <th>246289</th>\n",
              "      <td>2015-11-30 20:30:00</td>\n",
              "      <td>TALMAN AVE</td>\n",
              "      <td>MOTOR VEHICLE THEFT</td>\n",
              "      <td>STREET</td>\n",
              "      <td>False</td>\n",
              "      <td>False</td>\n",
              "      <td>1.730379</td>\n",
              "      <td>-0.190923</td>\n",
              "      <td>1.731604</td>\n",
              "      <td>1160769.0</td>\n",
              "      <td>1828619.0</td>\n",
              "      <td>2015</td>\n",
              "      <td>-1.783334</td>\n",
              "      <td>-0.339353</td>\n",
              "      <td>20</td>\n",
              "      <td>30</td>\n",
              "      <td>11</td>\n",
              "      <td>5</td>\n",
              "      <td>Low</td>\n",
              "    </tr>\n",
              "    <tr>\n",
              "      <th>75169</th>\n",
              "      <td>2016-06-13 22:00:00</td>\n",
              "      <td>MILWAUKEE AVE</td>\n",
              "      <td>ASSAULT</td>\n",
              "      <td>RESIDENCE</td>\n",
              "      <td>False</td>\n",
              "      <td>True</td>\n",
              "      <td>0.844217</td>\n",
              "      <td>1.699408</td>\n",
              "      <td>-1.382964</td>\n",
              "      <td>1132984.0</td>\n",
              "      <td>1941445.0</td>\n",
              "      <td>2016</td>\n",
              "      <td>1.877540</td>\n",
              "      <td>-2.031131</td>\n",
              "      <td>22</td>\n",
              "      <td>13</td>\n",
              "      <td>6</td>\n",
              "      <td>14</td>\n",
              "      <td>Low</td>\n",
              "    </tr>\n",
              "    <tr>\n",
              "      <th>982721</th>\n",
              "      <td>2015-10-05 01:15:00</td>\n",
              "      <td>89TH PL</td>\n",
              "      <td>BATTERY</td>\n",
              "      <td>RESIDENCE PORCH/HALLWAY</td>\n",
              "      <td>False</td>\n",
              "      <td>True</td>\n",
              "      <td>-0.632720</td>\n",
              "      <td>-1.136089</td>\n",
              "      <td>0.246195</td>\n",
              "      <td>1182058.0</td>\n",
              "      <td>1845775.0</td>\n",
              "      <td>2015</td>\n",
              "      <td>-1.233109</td>\n",
              "      <td>1.000310</td>\n",
              "      <td>1</td>\n",
              "      <td>5</td>\n",
              "      <td>10</td>\n",
              "      <td>3</td>\n",
              "      <td>Low</td>\n",
              "    </tr>\n",
              "    <tr>\n",
              "      <th>7164</th>\n",
              "      <td>2018-01-09 19:20:00</td>\n",
              "      <td>BYRON ST</td>\n",
              "      <td>MOTOR VEHICLE THEFT</td>\n",
              "      <td>STREET</td>\n",
              "      <td>False</td>\n",
              "      <td>False</td>\n",
              "      <td>0.991911</td>\n",
              "      <td>0.826947</td>\n",
              "      <td>-1.095466</td>\n",
              "      <td>1155921.0</td>\n",
              "      <td>1925778.0</td>\n",
              "      <td>2018</td>\n",
              "      <td>1.364962</td>\n",
              "      <td>-0.597770</td>\n",
              "      <td>19</td>\n",
              "      <td>9</td>\n",
              "      <td>1</td>\n",
              "      <td>1</td>\n",
              "      <td>Low</td>\n",
              "    </tr>\n",
              "  </tbody>\n",
              "</table>\n",
              "</div>"
            ],
            "text/plain": [
              "                      Date           Block         Primary Type  \\\n",
              "219816 2018-08-18 16:00:00         91ST ST              ASSAULT   \n",
              "246289 2015-11-30 20:30:00      TALMAN AVE  MOTOR VEHICLE THEFT   \n",
              "75169  2016-06-13 22:00:00   MILWAUKEE AVE              ASSAULT   \n",
              "982721 2015-10-05 01:15:00         89TH PL              BATTERY   \n",
              "7164   2018-01-09 19:20:00        BYRON ST  MOTOR VEHICLE THEFT   \n",
              "\n",
              "           Location Description  Arrest  Domestic  District      Ward  \\\n",
              "219816                APARTMENT   False      True -0.632720 -0.045513   \n",
              "246289                   STREET   False     False  1.730379 -0.190923   \n",
              "75169                 RESIDENCE   False      True  0.844217  1.699408   \n",
              "982721  RESIDENCE PORCH/HALLWAY   False      True -0.632720 -1.136089   \n",
              "7164                     STREET   False     False  0.991911  0.826947   \n",
              "\n",
              "        Community Area  X Coordinate  Y Coordinate  Year  Latitude  Longitude  \\\n",
              "219816        0.485777     1175573.0     1844584.0  2018 -1.269947   0.594075   \n",
              "246289        1.731604     1160769.0     1828619.0  2015 -1.783334  -0.339353   \n",
              "75169        -1.382964     1132984.0     1941445.0  2016  1.877540  -2.031131   \n",
              "982721        0.246195     1182058.0     1845775.0  2015 -1.233109   1.000310   \n",
              "7164         -1.095466     1155921.0     1925778.0  2018  1.364962  -0.597770   \n",
              "\n",
              "        Hour  Day  Month  Crime Rate Crime Rate Level  \n",
              "219816    16   18      8          12              Low  \n",
              "246289    20   30     11           5              Low  \n",
              "75169     22   13      6          14              Low  \n",
              "982721     1    5     10           3              Low  \n",
              "7164      19    9      1           1              Low  "
            ]
          },
          "execution_count": 26,
          "metadata": {},
          "output_type": "execute_result"
        }
      ],
      "source": [
        "num_cols = ['District', 'Ward', 'Community Area', 'Latitude', 'Longitude']\n",
        "df1[num_cols] = StandardScaler().fit_transform(df1[num_cols])\n",
        "df1.head()"
      ]
    },
    {
      "cell_type": "markdown",
      "metadata": {
        "id": "h56aR12Ool2p"
      },
      "source": [
        "We assign the columns we want to use to predict the crime rate level to X. We then assign the column 'Crime Rate Level' to y as it will be the variable we're predicting."
      ]
    },
    {
      "cell_type": "code",
      "execution_count": null,
      "metadata": {
        "id": "-V_Pp5CXol2q",
        "outputId": "e2a8d616-2521-4dc1-b753-e0823dc3b4ca"
      },
      "outputs": [
        {
          "data": {
            "text/plain": [
              "((500, 10), (500,))"
            ]
          },
          "execution_count": 27,
          "metadata": {},
          "output_type": "execute_result"
        }
      ],
      "source": [
        "x = df1[['Arrest', 'Domestic', 'District', 'Ward', 'Community Area', 'Latitude', 'Longitude', 'Hour', 'Day', 'Month']]\n",
        "y = df1['Crime Rate Level']\n",
        "x.shape, y.shape"
      ]
    },
    {
      "cell_type": "markdown",
      "metadata": {
        "id": "ZBh6q-Dhol2r"
      },
      "source": [
        "We split X and Y into training and testing set. We allocate 80% of the data to our training set and 20% to our testing set. We then see the shape of our training and testing set."
      ]
    },
    {
      "cell_type": "code",
      "execution_count": null,
      "metadata": {
        "id": "9Wd0MVosol2r",
        "outputId": "84db290f-7283-4766-f1f1-f991b5573c96"
      },
      "outputs": [
        {
          "data": {
            "text/plain": [
              "((400, 10), (100, 10), (400,), (100,))"
            ]
          },
          "execution_count": 28,
          "metadata": {},
          "output_type": "execute_result"
        }
      ],
      "source": [
        "xtrain, xtest, ytrain, ytest = train_test_split(x, y, train_size=0.8, random_state=2)\n",
        "xtrain.shape, xtest.shape, ytrain.shape, ytest.shape"
      ]
    },
    {
      "cell_type": "markdown",
      "metadata": {
        "id": "Uen7QQA9ol2s"
      },
      "source": [
        "## 4. Build and Assess the Machine Learning Models (35 pts.)"
      ]
    },
    {
      "cell_type": "markdown",
      "metadata": {
        "id": "T-1MyhvTol2t"
      },
      "source": [
        "**You have to evaluate the machine learning models using at least two performance metrics (for example: precision and recall)**."
      ]
    },
    {
      "cell_type": "markdown",
      "metadata": {
        "id": "DuO4WLUcol2u"
      },
      "source": [
        "### First Model: Logistic Regression"
      ]
    },
    {
      "cell_type": "markdown",
      "metadata": {
        "id": "rwUo8NMxol2u"
      },
      "source": [
        "We use Logistic Regression as it is the most basic classification model. It is usually used as an alternatife to Linear Regression when categorical data is present. It also handles outliers quite well, considering we did not remove the outliers earlier."
      ]
    },
    {
      "cell_type": "code",
      "execution_count": null,
      "metadata": {
        "id": "dqYZMhNpol2v",
        "outputId": "a5c7878c-49cb-43e0-bb95-9b4c5a7195f8"
      },
      "outputs": [
        {
          "name": "stderr",
          "output_type": "stream",
          "text": [
            "C:\\Users\\User\\anaconda3\\lib\\site-packages\\sklearn\\linear_model\\_logistic.py:444: ConvergenceWarning: lbfgs failed to converge (status=1):\n",
            "STOP: TOTAL NO. of ITERATIONS REACHED LIMIT.\n",
            "\n",
            "Increase the number of iterations (max_iter) or scale the data as shown in:\n",
            "    https://scikit-learn.org/stable/modules/preprocessing.html\n",
            "Please also refer to the documentation for alternative solver options:\n",
            "    https://scikit-learn.org/stable/modules/linear_model.html#logistic-regression\n",
            "  n_iter_i = _check_optimize_result(\n"
          ]
        },
        {
          "data": {
            "text/plain": [
              "(0.9, 0.8952380952380952)"
            ]
          },
          "execution_count": 43,
          "metadata": {},
          "output_type": "execute_result"
        }
      ],
      "source": [
        "lr = LogisticRegression()\n",
        "lr.fit(xtrain, ytrain)\n",
        "acc_lr = accuracy_score(lr.predict(xtest), ytest)\n",
        "f1_lr = f1_score(ytest, lr.predict(xtest), average='weighted')\n",
        "acc_lr, f1_lr"
      ]
    },
    {
      "cell_type": "markdown",
      "metadata": {
        "id": "hpzJqbTaol2w"
      },
      "source": [
        "### Second Model: Random Forest"
      ]
    },
    {
      "cell_type": "markdown",
      "metadata": {
        "id": "7o_EclCSol2w"
      },
      "source": [
        "We use Random Forest as it usually computes a very high accuracy and works well with a huge data set. However, it takes a noticably long time to run, so it is better to use the samples we tok earlier."
      ]
    },
    {
      "cell_type": "code",
      "execution_count": null,
      "metadata": {
        "id": "8qjFvby5ol2x",
        "outputId": "432135cf-2ed0-4202-c05b-d9088d37f7e8"
      },
      "outputs": [
        {
          "data": {
            "text/plain": [
              "(0.89, 0.8852910052910051)"
            ]
          },
          "execution_count": 44,
          "metadata": {},
          "output_type": "execute_result"
        }
      ],
      "source": [
        "rf = RandomForestClassifier()\n",
        "rf.fit(xtrain, ytrain)\n",
        "acc_rf = accuracy_score(rf.predict(xtest), ytest)\n",
        "f1_rf = f1_score(ytest, rf.predict(xtest), average='weighted')\n",
        "acc_rf, f1_rf"
      ]
    },
    {
      "cell_type": "markdown",
      "metadata": {
        "id": "sJxAv84Hol2y"
      },
      "source": [
        "We make a table for the accuracy scores using dataframe so it is easier for us to compare them. We can also plot the dataframe using heatmap for a better visualisation."
      ]
    },
    {
      "cell_type": "code",
      "execution_count": null,
      "metadata": {
        "id": "Jo9hU5_-ol2y",
        "outputId": "5a69941e-e54e-4ea2-f654-42d7dfd287e3"
      },
      "outputs": [
        {
          "data": {
            "image/png": "[encoded data removed]",
            "text/plain": [
              "<Figure size 432x288 with 2 Axes>"
            ]
          },
          "metadata": {
            "needs_background": "light"
          },
          "output_type": "display_data"
        }
      ],
      "source": [
        "lr = [acc_lr, f1_lr]\n",
        "rf = [acc_rf, f1_rf]\n",
        "acc_score = {'Logistic Regression': lr, 'Random Forest': rf}\n",
        "acc_score_df = pd.DataFrame(acc_score, index=['Accuracy', 'F1'])\n",
        "sns.heatmap(acc_score_df, annot=True, fmt='.3f', cmap=\"RdPu\")\n",
        "plt.show()"
      ]
    },
    {
      "cell_type": "markdown",
      "metadata": {
        "id": "zC_71DCcol2z"
      },
      "source": [
        "## 5. Choose your Final Model (3 pts.)"
      ]
    },
    {
      "cell_type": "markdown",
      "metadata": {
        "id": "VmOa7nUPol2z"
      },
      "source": [
        "We should select Logistic Regression to be our final model as it has the highest accuracy and F1 score. We then save it to our storage as a joblib file."
      ]
    },
    {
      "cell_type": "code",
      "execution_count": null,
      "metadata": {
        "id": "sX6vGNGrol2z",
        "outputId": "4fea0b6b-2ae9-4fbe-c358-f30769d1dc0b"
      },
      "outputs": [
        {
          "data": {
            "text/plain": [
              "['C:/Users/User/Downloads/ml/logisticregression_ml_finalexam.joblib']"
            ]
          },
          "execution_count": 53,
          "metadata": {},
          "output_type": "execute_result"
        }
      ],
      "source": [
        "from joblib import dump\n",
        "dump(lr, 'C:/Users/User/Downloads/ml/logisticregression_ml_finalexam.joblib')"
      ]
    }
  ],
  "metadata": {
    "kernelspec": {
      "display_name": "Python 3",
      "language": "python",
      "name": "python3"
    },
    "language_info": {
      "codemirror_mode": {
        "name": "ipython",
        "version": 3
      },
      "file_extension": ".py",
      "mimetype": "text/x-python",
      "name": "python",
      "nbconvert_exporter": "python",
      "pygments_lexer": "ipython3",
      "version": "3.8.3"
    },
    "colab": {
      "provenance": [],
      "include_colab_link": true
    }
  },
  "nbformat": 4,
  "nbformat_minor": 0
}