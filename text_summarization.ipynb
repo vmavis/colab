{
  "cells": [
    {
      "cell_type": "markdown",
      "metadata": {
        "id": "view-in-github",
        "colab_type": "text"
      },
      "source": [
        "<a href=\"https://colab.research.google.com/github/vmavis/colab/blob/main/text_summarization.ipynb\" target=\"_parent\"><img src=\"https://colab.research.google.com/assets/colab-badge.svg\" alt=\"Open In Colab\"/></a>"
      ]
    },
    {
      "cell_type": "markdown",
      "source": [
        "## **Importing Libraries**"
      ],
      "metadata": {
        "id": "Zvdu_oWXqGN3"
      }
    },
    {
      "cell_type": "markdown",
      "source": [
        "All the necessary libraries and functions are installed and imported first. Further need of other libraries and functions may require us to import them seperately.\n",
        "\n",
        "Numpy lets us work with arrays while pandas let us work with dataframes. NLTK lets us work with natural language processing, such as importing stopwords and computing cosine distance. Networkx lets us create, manipulate, and learn the structure, dynamics, and functions of complex networks."
      ],
      "metadata": {
        "id": "lcB6rEluqIPP"
      }
    },
    {
      "cell_type": "code",
      "execution_count": null,
      "metadata": {
        "id": "k7HvSU7QN1zB"
      },
      "outputs": [],
      "source": [
        "import numpy as np\n",
        "import pandas as pd\n",
        "from nltk.corpus import stopwords\n",
        "from nltk.cluster.util import cosine_distance\n",
        "import networkx as nx"
      ]
    },
    {
      "cell_type": "code",
      "source": [
        "import nltk\n",
        "nltk.download('stopwords')"
      ],
      "metadata": {
        "colab": {
          "base_uri": "https://localhost:8080/"
        },
        "id": "-B70oiRjSYXZ",
        "outputId": "6ad41edc-bdfc-4899-cdfb-47918d342030"
      },
      "execution_count": null,
      "outputs": [
        {
          "output_type": "stream",
          "name": "stderr",
          "text": [
            "[nltk_data] Downloading package stopwords to /root/nltk_data...\n",
            "[nltk_data]   Package stopwords is already up-to-date!\n"
          ]
        },
        {
          "output_type": "execute_result",
          "data": {
            "text/plain": [
              "True"
            ]
          },
          "metadata": {},
          "execution_count": 2
        }
      ]
    },
    {
      "cell_type": "markdown",
      "source": [
        "## **Creating User-Defined Functions**"
      ],
      "metadata": {
        "id": "GMiEMlQdwdRP"
      }
    },
    {
      "cell_type": "markdown",
      "source": [
        "A function to read the text file is defined below. It splits the text based on dots and removes non-alphabetic characters."
      ],
      "metadata": {
        "id": "n1duTUbmw-M7"
      }
    },
    {
      "cell_type": "code",
      "execution_count": null,
      "metadata": {
        "id": "424o_u6VN1zL"
      },
      "outputs": [],
      "source": [
        "def read_article(file_name):\n",
        "    file = open(file_name, \"r\")\n",
        "    filedata = file.readlines()\n",
        "    article = filedata[0].split(\". \")\n",
        "    sentences = []\n",
        "    for sentence in article:\n",
        "        print(sentence)\n",
        "        sentences.append(sentence.replace(\"[^a-zA-Z]\", \" \").split(\" \"))\n",
        "    sentences.pop()\n",
        "\n",
        "    return sentences"
      ]
    },
    {
      "cell_type": "markdown",
      "source": [
        "A function to compute the similarity between each sentence is defined below. A vector with size following the length of all words is created first. A vector is then created each for the first and second sentence.\n",
        "\n"
      ],
      "metadata": {
        "id": "w8xyWNDixrRl"
      }
    },
    {
      "cell_type": "code",
      "execution_count": null,
      "metadata": {
        "id": "hjmOOo1RN1zN"
      },
      "outputs": [],
      "source": [
        "def sentence_similarity(sent1, sent2, stopwords=None):\n",
        "    if stopwords is None:\n",
        "        stopwords = []\n",
        "\n",
        "    sent1 = [w.lower() for w in sent1]\n",
        "    sent2 = [w.lower() for w in sent2]\n",
        "\n",
        "    all_words = list(set(sent1+sent2))\n",
        "\n",
        "    vector1 = [0]*len(all_words)\n",
        "    vector2 = [0]*len(all_words)\n",
        "\n",
        "    for w in sent1:\n",
        "        if w in stopwords:\n",
        "            continue\n",
        "        vector1[all_words.index(w)]+=1\n",
        "\n",
        "    for w in sent2:\n",
        "        if w in stopwords:\n",
        "            continue\n",
        "        vector2[all_words.index(w)]+=1\n",
        "\n",
        "    return 1-cosine_distance(vector1, vector2)"
      ]
    },
    {
      "cell_type": "markdown",
      "source": [
        "A function to create the similarity matrix is defined below. An empty matrix is created first to store the similarity values. Same sentences are ignored here."
      ],
      "metadata": {
        "id": "MZUiJg0XzzCe"
      }
    },
    {
      "cell_type": "code",
      "execution_count": null,
      "metadata": {
        "id": "vITGG2yGN1zP"
      },
      "outputs": [],
      "source": [
        "def build_similarity_matrix(sentences, stop_words):\n",
        "    similarity_matrix = np.zeros((len(sentences), len(sentences)))\n",
        "\n",
        "    for idx1 in range(len(sentences)):\n",
        "        for idx2 in range(len(sentences)):\n",
        "            if idx1 == idx2:\n",
        "                continue\n",
        "            similarity_matrix[idx1][idx2] = sentence_similarity(sentences[idx1], sentences[idx2], stop_words)\n",
        "\n",
        "    return similarity_matrix"
      ]
    },
    {
      "cell_type": "markdown",
      "source": [
        "A function to summarize the text is defined below. All English stopwords are stored in a variable and an empty list to store the the summarized text is created. The text is read first by using the function defined previously. The sentences similarity matrix is then generated. The sentences in that matrix is then ranked descendingly based on their scores. Only the few top sentences are taken and used for the text summary."
      ],
      "metadata": {
        "id": "_bxQgMx80FpQ"
      }
    },
    {
      "cell_type": "code",
      "execution_count": null,
      "metadata": {
        "id": "2_0lx1z6N1zQ"
      },
      "outputs": [],
      "source": [
        "def generate_summary(file_name, top_n):\n",
        "    stop_words = stopwords.words('english')\n",
        "    summarize_text = []\n",
        "\n",
        "    sentences =  read_article(file_name)\n",
        "\n",
        "    sentence_similarity_martix = build_similarity_matrix(sentences, stop_words)\n",
        "\n",
        "    sentence_similarity_graph = nx.from_numpy_array(sentence_similarity_martix)\n",
        "    scores = nx.pagerank(sentence_similarity_graph)\n",
        "\n",
        "    ranked_sentence = sorted(((scores[i],s) for i,s in enumerate(sentences)), reverse=True)\n",
        "    print(\"Indexes of the top ranked sentences order are \", ranked_sentence)\n",
        "\n",
        "    for i in range(top_n):\n",
        "      summarize_text.append(\" \".join(ranked_sentence[i][1]))\n",
        "\n",
        "    # Step 5 - Offcourse, output the summarize texr\n",
        "    print(\"Text Summary: \\n\", \". \".join(summarize_text))\n"
      ]
    },
    {
      "cell_type": "markdown",
      "source": [
        "## **Data Preprocessing**"
      ],
      "metadata": {
        "id": "abTZFVba3YAH"
      }
    },
    {
      "cell_type": "markdown",
      "source": [
        "The text is read and stored in a variable for further computation using the function previously defined."
      ],
      "metadata": {
        "id": "QlObuJPJ5X2K"
      }
    },
    {
      "cell_type": "code",
      "source": [
        "sentences = read_article('data_4D.txt')"
      ],
      "metadata": {
        "colab": {
          "base_uri": "https://localhost:8080/"
        },
        "id": "Gf0RPyxI4b8L",
        "outputId": "6f0e8c36-37e3-47c0-cded-f4fe7451c3af"
      },
      "execution_count": null,
      "outputs": [
        {
          "output_type": "stream",
          "name": "stdout",
          "text": [
            "﻿This paper focuses on an event for the main actors in e-tourism, called Tourism@\n",
            "It is held on the French Riviera and is dedicated to new uses of Information and Communication Technology (ICT) in the tourism industry\n",
            "It is a major international trade fair in Europe for innovative start up companies, high tech small and medium sized enterprises (SMEs), large multinationals and academics related to the tourism industry\n",
            "Each edition of Tourism@ includes a competition aiming at awarding the best projects in terms of creativity and commitment to developing and implementing new technologies or new uses of ICT in the tourism industry\n",
            "As far as Tourism@ has several unique characteristics in relation to innovation in tourism, it is an interesting case deserving an in-depth analysis\n",
            "Innovation is playing an increasing role in services (Miles, 2001) and, unquestionably, is particularly important for the tourism industry (Hjalager, 2002)\n",
            "Tourism has been one of the main drivers of Internet use in the economy – from e-commerce to inter-firm relations or Web 2.0 applications (Marcussen, 2009, Werthner and Klein, 2005)\n",
            "Buhalis and Law (2008:610) indicate that “technological progress and tourism have been going hand in hand for years”\n",
            "These applications of ICT have led to changes in the organisation of firms and in the tourism industry (Buhalis and Licata, 2002, Buhalis and Zoge, 2007, Hall and Williams, 2008, Longhi, 2009)\n",
            "Change and innovation in tourism have induced a large body of research which was reviewed in two recent papers by Buhalis and Law (2008) and Hjalager (2010)\n",
            "Usually in this body of research, each account contributes only to one specific innovative use of ICT in tourism\n",
            "The present paper does not address directly this body of literature; it focuses instead on the dynamics of innovation in tourism over time to provide evidence on major trends\n",
            "The aim is to capture the evolution of innovative activity in the tourism industry through the empirical analysis of the Tourism@ event and the annual Tourism@ Awards for best projects\n",
            "This article exploits the database of the competing projects to analyse the dynamics of innovation in tourism\n",
            "Events such as Tourism@ can be considered empirical cases of temporary clusters (Maskell, Bathelt, & Malmberg, 2005), that reveal ongoing innovation\n",
            "These events have been argued as relevant hubs that help identify new technologies and solutions, facilitate collaboration with and among the firms implementing them, and foster new partnerships\n",
            "The identification and selection of new technologies are “tricky and costly processes” (Maskell et al., 2005:2) and especially when related to such a complex and heterogeneous activity as it is the case in the tourism industry\n",
            "Indeed, the tourism industry is comprised of activities that are scattered in nature, time and space, which need to be combined and assembled dynamically, and gather together actors located far apart in the physical, organisational, as well as cognitive senses\n",
            "Among the knowledge transfer mechanisms identified in the literature, learning via observation is particularly important for tourism firms given the difficulties of patenting intellectual capital and of concealing innovations in the “front of house” (Hall & Williams, 2008)\n",
            "Weidenfeld, Williams, and Butler (2010:5) describe that “services generally rely less on in-house research and development and more on buying in knowledge and innovations from suppliers”\n",
            "The role of fairs is thus very important since they represent a locus of diffusion of information on the nature of the ongoing innovation processes\n",
            "They can put forward the evolution of “frontiers” related to the different dimensions of innovation in tourism\n",
            "The analysis is structured as follows\n",
            "Section 2 introduces the case study and builds the analytical framework required for the empirical analysis\n",
            "Tourism is defined as a sectoral system of innovation and production, a concept introduced by Malerba, 2001, Malerba, 2004, which identifies the constraints related to innovation in this activity\n",
            "Section 3 presents the Tourism@ case study, the methodology and statistical analysis\n",
            "This case study benefits from an exhaustive database of the innovation projects presented at Tourism@, which provides information on knowledge bases, technologies, and the uses and markets targeted over time\n",
            "The analysis of the Tourism@ trade fair database in Section 4 reveals the important innovative activity that occurs in the tourism industry\n",
            "It highlights the capacity of this industry to rapidly exploit the advantages of the newest technological developments\n",
            "Section 5 concludes.\n"
          ]
        }
      ]
    },
    {
      "cell_type": "markdown",
      "source": [
        "The similarity matrix is created using the previously defined function. It is then used to build the similarity graph."
      ],
      "metadata": {
        "id": "-GfXnK193geS"
      }
    },
    {
      "cell_type": "code",
      "execution_count": null,
      "metadata": {
        "id": "yoZILEQBN1zU"
      },
      "outputs": [],
      "source": [
        "sentence_similarity_martix = build_similarity_matrix(sentences, stop_words=None)\n",
        "sentence_similarity_graph = nx.from_numpy_array(sentence_similarity_martix)"
      ]
    },
    {
      "cell_type": "markdown",
      "source": [
        "## **Text Summary**"
      ],
      "metadata": {
        "id": "L5wVNf8t5rxk"
      }
    },
    {
      "cell_type": "markdown",
      "source": [
        "The summary is printed below along with the original text and the indexes of the top ranked sentences order. The summary makes use of the top 3 sentences with the highest score."
      ],
      "metadata": {
        "id": "0kyQCsaq2hlp"
      }
    },
    {
      "cell_type": "code",
      "execution_count": null,
      "metadata": {
        "colab": {
          "base_uri": "https://localhost:8080/"
        },
        "id": "rL9Y8NRPN1zS",
        "outputId": "18b69ca4-afab-4ade-d7c7-5b2d6a322d33"
      },
      "outputs": [
        {
          "output_type": "stream",
          "name": "stdout",
          "text": [
            "﻿This paper focuses on an event for the main actors in e-tourism, called Tourism@\n",
            "It is held on the French Riviera and is dedicated to new uses of Information and Communication Technology (ICT) in the tourism industry\n",
            "It is a major international trade fair in Europe for innovative start up companies, high tech small and medium sized enterprises (SMEs), large multinationals and academics related to the tourism industry\n",
            "Each edition of Tourism@ includes a competition aiming at awarding the best projects in terms of creativity and commitment to developing and implementing new technologies or new uses of ICT in the tourism industry\n",
            "As far as Tourism@ has several unique characteristics in relation to innovation in tourism, it is an interesting case deserving an in-depth analysis\n",
            "Innovation is playing an increasing role in services (Miles, 2001) and, unquestionably, is particularly important for the tourism industry (Hjalager, 2002)\n",
            "Tourism has been one of the main drivers of Internet use in the economy – from e-commerce to inter-firm relations or Web 2.0 applications (Marcussen, 2009, Werthner and Klein, 2005)\n",
            "Buhalis and Law (2008:610) indicate that “technological progress and tourism have been going hand in hand for years”\n",
            "These applications of ICT have led to changes in the organisation of firms and in the tourism industry (Buhalis and Licata, 2002, Buhalis and Zoge, 2007, Hall and Williams, 2008, Longhi, 2009)\n",
            "Change and innovation in tourism have induced a large body of research which was reviewed in two recent papers by Buhalis and Law (2008) and Hjalager (2010)\n",
            "Usually in this body of research, each account contributes only to one specific innovative use of ICT in tourism\n",
            "The present paper does not address directly this body of literature; it focuses instead on the dynamics of innovation in tourism over time to provide evidence on major trends\n",
            "The aim is to capture the evolution of innovative activity in the tourism industry through the empirical analysis of the Tourism@ event and the annual Tourism@ Awards for best projects\n",
            "This article exploits the database of the competing projects to analyse the dynamics of innovation in tourism\n",
            "Events such as Tourism@ can be considered empirical cases of temporary clusters (Maskell, Bathelt, & Malmberg, 2005), that reveal ongoing innovation\n",
            "These events have been argued as relevant hubs that help identify new technologies and solutions, facilitate collaboration with and among the firms implementing them, and foster new partnerships\n",
            "The identification and selection of new technologies are “tricky and costly processes” (Maskell et al., 2005:2) and especially when related to such a complex and heterogeneous activity as it is the case in the tourism industry\n",
            "Indeed, the tourism industry is comprised of activities that are scattered in nature, time and space, which need to be combined and assembled dynamically, and gather together actors located far apart in the physical, organisational, as well as cognitive senses\n",
            "Among the knowledge transfer mechanisms identified in the literature, learning via observation is particularly important for tourism firms given the difficulties of patenting intellectual capital and of concealing innovations in the “front of house” (Hall & Williams, 2008)\n",
            "Weidenfeld, Williams, and Butler (2010:5) describe that “services generally rely less on in-house research and development and more on buying in knowledge and innovations from suppliers”\n",
            "The role of fairs is thus very important since they represent a locus of diffusion of information on the nature of the ongoing innovation processes\n",
            "They can put forward the evolution of “frontiers” related to the different dimensions of innovation in tourism\n",
            "The analysis is structured as follows\n",
            "Section 2 introduces the case study and builds the analytical framework required for the empirical analysis\n",
            "Tourism is defined as a sectoral system of innovation and production, a concept introduced by Malerba, 2001, Malerba, 2004, which identifies the constraints related to innovation in this activity\n",
            "Section 3 presents the Tourism@ case study, the methodology and statistical analysis\n",
            "This case study benefits from an exhaustive database of the innovation projects presented at Tourism@, which provides information on knowledge bases, technologies, and the uses and markets targeted over time\n",
            "The analysis of the Tourism@ trade fair database in Section 4 reveals the important innovative activity that occurs in the tourism industry\n",
            "It highlights the capacity of this industry to rapidly exploit the advantages of the newest technological developments\n",
            "Section 5 concludes.\n",
            "Indexes of the top ranked sentences order are  [(0.06335109813953334, ['The', 'analysis', 'of', 'the', 'Tourism@', 'trade', 'fair', 'database', 'in', 'Section', '4', 'reveals', 'the', 'important', 'innovative', 'activity', 'that', 'occurs', 'in', 'the', 'tourism', 'industry']), (0.06202248233822132, ['The', 'aim', 'is', 'to', 'capture', 'the', 'evolution', 'of', 'innovative', 'activity', 'in', 'the', 'tourism', 'industry', 'through', 'the', 'empirical', 'analysis', 'of', 'the', 'Tourism@', 'event', 'and', 'the', 'annual', 'Tourism@', 'Awards', 'for', 'best', 'projects']), (0.04944682072397546, ['Each', 'edition', 'of', 'Tourism@', 'includes', 'a', 'competition', 'aiming', 'at', 'awarding', 'the', 'best', 'projects', 'in', 'terms', 'of', 'creativity', 'and', 'commitment', 'to', 'developing', 'and', 'implementing', 'new', 'technologies', 'or', 'new', 'uses', 'of', 'ICT', 'in', 'the', 'tourism', 'industry']), (0.04703075049342941, ['This', 'article', 'exploits', 'the', 'database', 'of', 'the', 'competing', 'projects', 'to', 'analyse', 'the', 'dynamics', 'of', 'innovation', 'in', 'tourism']), (0.046593143212991586, ['Innovation', 'is', 'playing', 'an', 'increasing', 'role', 'in', 'services', '(Miles,', '2001)', 'and,', 'unquestionably,', 'is', 'particularly', 'important', 'for', 'the', 'tourism', 'industry', '(Hjalager,', '2002)']), (0.044227016946268335, ['They', 'can', 'put', 'forward', 'the', 'evolution', 'of', '“frontiers”', 'related', 'to', 'the', 'different', 'dimensions', 'of', 'innovation', 'in', 'tourism']), (0.04366362874916645, ['The', 'identification', 'and', 'selection', 'of', 'new', 'technologies', 'are', '“tricky', 'and', 'costly', 'processes”', '(Maskell', 'et', 'al.,', '2005:2)', 'and', 'especially', 'when', 'related', 'to', 'such', 'a', 'complex', 'and', 'heterogeneous', 'activity', 'as', 'it', 'is', 'the', 'case', 'in', 'the', 'tourism', 'industry']), (0.04338972941159108, ['It', 'is', 'held', 'on', 'the', 'French', 'Riviera', 'and', 'is', 'dedicated', 'to', 'new', 'uses', 'of', 'Information', 'and', 'Communication', 'Technology', '(ICT)', 'in', 'the', 'tourism', 'industry']), (0.04101810688059901, ['Tourism', 'is', 'defined', 'as', 'a', 'sectoral', 'system', 'of', 'innovation', 'and', 'production,', 'a', 'concept', 'introduced', 'by', 'Malerba,', '2001,', 'Malerba,', '2004,', 'which', 'identifies', 'the', 'constraints', 'related', 'to', 'innovation', 'in', 'this', 'activity']), (0.040487234361534494, ['The', 'present', 'paper', 'does', 'not', 'address', 'directly', 'this', 'body', 'of', 'literature;', 'it', 'focuses', 'instead', 'on', 'the', 'dynamics', 'of', 'innovation', 'in', 'tourism', 'over', 'time', 'to', 'provide', 'evidence', 'on', 'major', 'trends']), (0.039407135755767424, ['Change', 'and', 'innovation', 'in', 'tourism', 'have', 'induced', 'a', 'large', 'body', 'of', 'research', 'which', 'was', 'reviewed', 'in', 'two', 'recent', 'papers', 'by', 'Buhalis', 'and', 'Law', '(2008)', 'and', 'Hjalager', '(2010)']), (0.03822620179920833, ['As', 'far', 'as', 'Tourism@', 'has', 'several', 'unique', 'characteristics', 'in', 'relation', 'to', 'innovation', 'in', 'tourism,', 'it', 'is', 'an', 'interesting', 'case', 'deserving', 'an', 'in-depth', 'analysis']), (0.03683466851248978, ['These', 'applications', 'of', 'ICT', 'have', 'led', 'to', 'changes', 'in', 'the', 'organisation', 'of', 'firms', 'and', 'in', 'the', 'tourism', 'industry', '(Buhalis', 'and', 'Licata,', '2002,', 'Buhalis', 'and', 'Zoge,', '2007,', 'Hall', 'and', 'Williams,', '2008,', 'Longhi,', '2009)']), (0.035678228518778665, ['It', 'is', 'a', 'major', 'international', 'trade', 'fair', 'in', 'Europe', 'for', 'innovative', 'start', 'up', 'companies,', 'high', 'tech', 'small', 'and', 'medium', 'sized', 'enterprises', '(SMEs),', 'large', 'multinationals', 'and', 'academics', 'related', 'to', 'the', 'tourism', 'industry']), (0.034417285639524876, ['Usually', 'in', 'this', 'body', 'of', 'research,', 'each', 'account', 'contributes', 'only', 'to', 'one', 'specific', 'innovative', 'use', 'of', 'ICT', 'in', 'tourism']), (0.033012422755995814, ['This', 'case', 'study', 'benefits', 'from', 'an', 'exhaustive', 'database', 'of', 'the', 'innovation', 'projects', 'presented', 'at', 'Tourism@,', 'which', 'provides', 'information', 'on', 'knowledge', 'bases,', 'technologies,', 'and', 'the', 'uses', 'and', 'markets', 'targeted', 'over', 'time']), (0.03234622370432349, ['Section', '3', 'presents', 'the', 'Tourism@', 'case', 'study,', 'the', 'methodology', 'and', 'statistical', 'analysis']), (0.029860761181353442, ['Among', 'the', 'knowledge', 'transfer', 'mechanisms', 'identified', 'in', 'the', 'literature,', 'learning', 'via', 'observation', 'is', 'particularly', 'important', 'for', 'tourism', 'firms', 'given', 'the', 'difficulties', 'of', 'patenting', 'intellectual', 'capital', 'and', 'of', 'concealing', 'innovations', 'in', 'the', '“front', 'of', 'house”', '(Hall', '&', 'Williams,', '2008)']), (0.029407970885699852, ['Indeed,', 'the', 'tourism', 'industry', 'is', 'comprised', 'of', 'activities', 'that', 'are', 'scattered', 'in', 'nature,', 'time', 'and', 'space,', 'which', 'need', 'to', 'be', 'combined', 'and', 'assembled', 'dynamically,', 'and', 'gather', 'together', 'actors', 'located', 'far', 'apart', 'in', 'the', 'physical,', 'organisational,', 'as', 'well', 'as', 'cognitive', 'senses']), (0.028540041491896158, ['Events', 'such', 'as', 'Tourism@', 'can', 'be', 'considered', 'empirical', 'cases', 'of', 'temporary', 'clusters', '(Maskell,', 'Bathelt,', '&', 'Malmberg,', '2005),', 'that', 'reveal', 'ongoing', 'innovation']), (0.026205497830996318, ['Buhalis', 'and', 'Law', '(2008:610)', 'indicate', 'that', '“technological', 'progress', 'and', 'tourism', 'have', 'been', 'going', 'hand', 'in', 'hand', 'for', 'years”']), (0.024885561076618268, ['Section', '2', 'introduces', 'the', 'case', 'study', 'and', 'builds', 'the', 'analytical', 'framework', 'required', 'for', 'the', 'empirical', 'analysis']), (0.024413394124403173, ['Tourism', 'has', 'been', 'one', 'of', 'the', 'main', 'drivers', 'of', 'Internet', 'use', 'in', 'the', 'economy', '–', 'from', 'e-commerce', 'to', 'inter-firm', 'relations', 'or', 'Web', '2.0', 'applications', '(Marcussen,', '2009,', 'Werthner', 'and', 'Klein,', '2005)']), (0.023779515927556654, ['The', 'role', 'of', 'fairs', 'is', 'thus', 'very', 'important', 'since', 'they', 'represent', 'a', 'locus', 'of', 'diffusion', 'of', 'information', 'on', 'the', 'nature', 'of', 'the', 'ongoing', 'innovation', 'processes']), (0.02043991102987876, ['\\ufeffThis', 'paper', 'focuses', 'on', 'an', 'event', 'for', 'the', 'main', 'actors', 'in', 'e-tourism,', 'called', 'Tourism@']), (0.017977893430345497, ['The', 'analysis', 'is', 'structured', 'as', 'follows']), (0.016930687444992244, ['These', 'events', 'have', 'been', 'argued', 'as', 'relevant', 'hubs', 'that', 'help', 'identify', 'new', 'technologies', 'and', 'solutions,', 'facilitate', 'collaboration', 'with', 'and', 'among', 'the', 'firms', 'implementing', 'them,', 'and', 'foster', 'new', 'partnerships']), (0.015914953848255326, ['It', 'highlights', 'the', 'capacity', 'of', 'this', 'industry', 'to', 'rapidly', 'exploit', 'the', 'advantages', 'of', 'the', 'newest', 'technological', 'developments']), (0.010491633784605704, ['Weidenfeld,', 'Williams,', 'and', 'Butler', '(2010:5)', 'describe', 'that', '“services', 'generally', 'rely', 'less', 'on', 'in-house', 'research', 'and', 'development', 'and', 'more', 'on', 'buying', 'in', 'knowledge', 'and', 'innovations', 'from', 'suppliers”'])]\n",
            "Text Summary: \n",
            " The analysis of the Tourism@ trade fair database in Section 4 reveals the important innovative activity that occurs in the tourism industry. The aim is to capture the evolution of innovative activity in the tourism industry through the empirical analysis of the Tourism@ event and the annual Tourism@ Awards for best projects. Each edition of Tourism@ includes a competition aiming at awarding the best projects in terms of creativity and commitment to developing and implementing new technologies or new uses of ICT in the tourism industry\n"
          ]
        }
      ],
      "source": [
        "generate_summary(\"data_4D.txt\", 3)"
      ]
    },
    {
      "cell_type": "markdown",
      "source": [
        "## **Scores**"
      ],
      "metadata": {
        "id": "TPVB5nao6D9e"
      }
    },
    {
      "cell_type": "markdown",
      "source": [
        "All sentences are sorted descendingly based on their scores provided in the similarity graph. They are then printed below."
      ],
      "metadata": {
        "id": "4OsC0aEe6NXG"
      }
    },
    {
      "cell_type": "code",
      "execution_count": null,
      "metadata": {
        "id": "3g0mVH8qN1za"
      },
      "outputs": [],
      "source": [
        "scores = nx.pagerank(sentence_similarity_graph)\n",
        "ranked_sentence = sorted(((scores[i],s) for i,s in enumerate(sentences)), reverse=True)"
      ]
    },
    {
      "cell_type": "code",
      "execution_count": null,
      "metadata": {
        "colab": {
          "base_uri": "https://localhost:8080/"
        },
        "id": "bVvCQT60N1zd",
        "outputId": "77ac1b98-8aef-498e-c37a-b8f16306be5a"
      },
      "outputs": [
        {
          "output_type": "stream",
          "name": "stdout",
          "text": [
            "(0.04880194724399263, ['The', 'aim', 'is', 'to', 'capture', 'the', 'evolution', 'of', 'innovative', 'activity', 'in', 'the', 'tourism', 'industry', 'through', 'the', 'empirical', 'analysis', 'of', 'the', 'Tourism@', 'event', 'and', 'the', 'annual', 'Tourism@', 'Awards', 'for', 'best', 'projects']) \n",
            "\n",
            "(0.045147634384120505, ['The', 'identification', 'and', 'selection', 'of', 'new', 'technologies', 'are', '“tricky', 'and', 'costly', 'processes”', '(Maskell', 'et', 'al.,', '2005:2)', 'and', 'especially', 'when', 'related', 'to', 'such', 'a', 'complex', 'and', 'heterogeneous', 'activity', 'as', 'it', 'is', 'the', 'case', 'in', 'the', 'tourism', 'industry']) \n",
            "\n",
            "(0.044283320293213156, ['This', 'article', 'exploits', 'the', 'database', 'of', 'the', 'competing', 'projects', 'to', 'analyse', 'the', 'dynamics', 'of', 'innovation', 'in', 'tourism']) \n",
            "\n",
            "(0.044204337674503325, ['It', 'is', 'held', 'on', 'the', 'French', 'Riviera', 'and', 'is', 'dedicated', 'to', 'new', 'uses', 'of', 'Information', 'and', 'Communication', 'Technology', '(ICT)', 'in', 'the', 'tourism', 'industry']) \n",
            "\n",
            "(0.043940057002759304, ['The', 'analysis', 'of', 'the', 'Tourism@', 'trade', 'fair', 'database', 'in', 'Section', '4', 'reveals', 'the', 'important', 'innovative', 'activity', 'that', 'occurs', 'in', 'the', 'tourism', 'industry']) \n",
            "\n",
            "(0.04349061210350393, ['Among', 'the', 'knowledge', 'transfer', 'mechanisms', 'identified', 'in', 'the', 'literature,', 'learning', 'via', 'observation', 'is', 'particularly', 'important', 'for', 'tourism', 'firms', 'given', 'the', 'difficulties', 'of', 'patenting', 'intellectual', 'capital', 'and', 'of', 'concealing', 'innovations', 'in', 'the', '“front', 'of', 'house”', '(Hall', '&', 'Williams,', '2008)']) \n",
            "\n",
            "(0.043462441424276244, ['These', 'applications', 'of', 'ICT', 'have', 'led', 'to', 'changes', 'in', 'the', 'organisation', 'of', 'firms', 'and', 'in', 'the', 'tourism', 'industry', '(Buhalis', 'and', 'Licata,', '2002,', 'Buhalis', 'and', 'Zoge,', '2007,', 'Hall', 'and', 'Williams,', '2008,', 'Longhi,', '2009)']) \n",
            "\n",
            "(0.04319330731802487, ['Each', 'edition', 'of', 'Tourism@', 'includes', 'a', 'competition', 'aiming', 'at', 'awarding', 'the', 'best', 'projects', 'in', 'terms', 'of', 'creativity', 'and', 'commitment', 'to', 'developing', 'and', 'implementing', 'new', 'technologies', 'or', 'new', 'uses', 'of', 'ICT', 'in', 'the', 'tourism', 'industry']) \n",
            "\n",
            "(0.04036887410375789, ['Indeed,', 'the', 'tourism', 'industry', 'is', 'comprised', 'of', 'activities', 'that', 'are', 'scattered', 'in', 'nature,', 'time', 'and', 'space,', 'which', 'need', 'to', 'be', 'combined', 'and', 'assembled', 'dynamically,', 'and', 'gather', 'together', 'actors', 'located', 'far', 'apart', 'in', 'the', 'physical,', 'organisational,', 'as', 'well', 'as', 'cognitive', 'senses']) \n",
            "\n",
            "(0.03994916128459932, ['They', 'can', 'put', 'forward', 'the', 'evolution', 'of', '“frontiers”', 'related', 'to', 'the', 'different', 'dimensions', 'of', 'innovation', 'in', 'tourism']) \n",
            "\n",
            "(0.037748998125062674, ['It', 'highlights', 'the', 'capacity', 'of', 'this', 'industry', 'to', 'rapidly', 'exploit', 'the', 'advantages', 'of', 'the', 'newest', 'technological', 'developments']) \n",
            "\n",
            "(0.037533685988709126, ['The', 'role', 'of', 'fairs', 'is', 'thus', 'very', 'important', 'since', 'they', 'represent', 'a', 'locus', 'of', 'diffusion', 'of', 'information', 'on', 'the', 'nature', 'of', 'the', 'ongoing', 'innovation', 'processes']) \n",
            "\n",
            "(0.03614763062503393, ['Tourism', 'has', 'been', 'one', 'of', 'the', 'main', 'drivers', 'of', 'Internet', 'use', 'in', 'the', 'economy', '–', 'from', 'e-commerce', 'to', 'inter-firm', 'relations', 'or', 'Web', '2.0', 'applications', '(Marcussen,', '2009,', 'Werthner', 'and', 'Klein,', '2005)']) \n",
            "\n",
            "(0.03569933667630135, ['The', 'present', 'paper', 'does', 'not', 'address', 'directly', 'this', 'body', 'of', 'literature;', 'it', 'focuses', 'instead', 'on', 'the', 'dynamics', 'of', 'innovation', 'in', 'tourism', 'over', 'time', 'to', 'provide', 'evidence', 'on', 'major', 'trends']) \n",
            "\n",
            "(0.03477760918273521, ['Section', '2', 'introduces', 'the', 'case', 'study', 'and', 'builds', 'the', 'analytical', 'framework', 'required', 'for', 'the', 'empirical', 'analysis']) \n",
            "\n",
            "(0.03459032381321307, ['This', 'case', 'study', 'benefits', 'from', 'an', 'exhaustive', 'database', 'of', 'the', 'innovation', 'projects', 'presented', 'at', 'Tourism@,', 'which', 'provides', 'information', 'on', 'knowledge', 'bases,', 'technologies,', 'and', 'the', 'uses', 'and', 'markets', 'targeted', 'over', 'time']) \n",
            "\n",
            "(0.032987579898206366, ['Tourism', 'is', 'defined', 'as', 'a', 'sectoral', 'system', 'of', 'innovation', 'and', 'production,', 'a', 'concept', 'introduced', 'by', 'Malerba,', '2001,', 'Malerba,', '2004,', 'which', 'identifies', 'the', 'constraints', 'related', 'to', 'innovation', 'in', 'this', 'activity']) \n",
            "\n",
            "(0.03292932409099869, ['Section', '3', 'presents', 'the', 'Tourism@', 'case', 'study,', 'the', 'methodology', 'and', 'statistical', 'analysis']) \n",
            "\n",
            "(0.03168300263960333, ['It', 'is', 'a', 'major', 'international', 'trade', 'fair', 'in', 'Europe', 'for', 'innovative', 'start', 'up', 'companies,', 'high', 'tech', 'small', 'and', 'medium', 'sized', 'enterprises', '(SMEs),', 'large', 'multinationals', 'and', 'academics', 'related', 'to', 'the', 'tourism', 'industry']) \n",
            "\n",
            "(0.031520550786397636, ['Change', 'and', 'innovation', 'in', 'tourism', 'have', 'induced', 'a', 'large', 'body', 'of', 'research', 'which', 'was', 'reviewed', 'in', 'two', 'recent', 'papers', 'by', 'Buhalis', 'and', 'Law', '(2008)', 'and', 'Hjalager', '(2010)']) \n",
            "\n",
            "(0.027350385959114404, ['Usually', 'in', 'this', 'body', 'of', 'research,', 'each', 'account', 'contributes', 'only', 'to', 'one', 'specific', 'innovative', 'use', 'of', 'ICT', 'in', 'tourism']) \n",
            "\n",
            "(0.026865014918210414, ['Innovation', 'is', 'playing', 'an', 'increasing', 'role', 'in', 'services', '(Miles,', '2001)', 'and,', 'unquestionably,', 'is', 'particularly', 'important', 'for', 'the', 'tourism', 'industry', '(Hjalager,', '2002)']) \n",
            "\n",
            "(0.026137988159867887, ['The', 'analysis', 'is', 'structured', 'as', 'follows']) \n",
            "\n",
            "(0.025813263918583795, ['These', 'events', 'have', 'been', 'argued', 'as', 'relevant', 'hubs', 'that', 'help', 'identify', 'new', 'technologies', 'and', 'solutions,', 'facilitate', 'collaboration', 'with', 'and', 'among', 'the', 'firms', 'implementing', 'them,', 'and', 'foster', 'new', 'partnerships']) \n",
            "\n",
            "(0.024733995130793298, ['\\ufeffThis', 'paper', 'focuses', 'on', 'an', 'event', 'for', 'the', 'main', 'actors', 'in', 'e-tourism,', 'called', 'Tourism@']) \n",
            "\n",
            "(0.02430222492780328, ['Weidenfeld,', 'Williams,', 'and', 'Butler', '(2010:5)', 'describe', 'that', '“services', 'generally', 'rely', 'less', 'on', 'in-house', 'research', 'and', 'development', 'and', 'more', 'on', 'buying', 'in', 'knowledge', 'and', 'innovations', 'from', 'suppliers”']) \n",
            "\n",
            "(0.023747085128128172, ['Buhalis', 'and', 'Law', '(2008:610)', 'indicate', 'that', '“technological', 'progress', 'and', 'tourism', 'have', 'been', 'going', 'hand', 'in', 'hand', 'for', 'years”']) \n",
            "\n",
            "(0.022981778366455128, ['As', 'far', 'as', 'Tourism@', 'has', 'several', 'unique', 'characteristics', 'in', 'relation', 'to', 'innovation', 'in', 'tourism,', 'it', 'is', 'an', 'interesting', 'case', 'deserving', 'an', 'in-depth', 'analysis']) \n",
            "\n",
            "(0.015608528832031066, ['Events', 'such', 'as', 'Tourism@', 'can', 'be', 'considered', 'empirical', 'cases', 'of', 'temporary', 'clusters', '(Maskell,', 'Bathelt,', '&', 'Malmberg,', '2005),', 'that', 'reveal', 'ongoing', 'innovation']) \n",
            "\n"
          ]
        }
      ],
      "source": [
        "for i in ranked_sentence:\n",
        "  print(i, '\\n')"
      ]
    }
  ],
  "metadata": {
    "kernelspec": {
      "display_name": "textmining",
      "language": "python",
      "name": "textmining"
    },
    "language_info": {
      "codemirror_mode": {
        "name": "ipython",
        "version": 3
      },
      "file_extension": ".py",
      "mimetype": "text/x-python",
      "name": "python",
      "nbconvert_exporter": "python",
      "pygments_lexer": "ipython3",
      "version": "3.7.3"
    },
    "colab": {
      "provenance": [],
      "include_colab_link": true
    }
  },
  "nbformat": 4,
  "nbformat_minor": 0
}