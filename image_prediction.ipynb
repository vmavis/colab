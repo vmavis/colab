{
  "cells": [
    {
      "cell_type": "markdown",
      "metadata": {
        "id": "view-in-github",
        "colab_type": "text"
      },
      "source": [
        "<a href=\"https://colab.research.google.com/github/vmavis/colab/blob/main/image_prediction.ipynb\" target=\"_parent\"><img src=\"https://colab.research.google.com/assets/colab-badge.svg\" alt=\"Open In Colab\"/></a>"
      ]
    },
    {
      "cell_type": "markdown",
      "source": [
        "# **Data Preprocessing**"
      ],
      "metadata": {
        "id": "uP2slgRsA2ba"
      }
    },
    {
      "cell_type": "markdown",
      "source": [
        "Before we try downloading our data set, we should upload our kaggle.json file and try accessing it."
      ],
      "metadata": {
        "id": "i4AVa_3siYlh"
      }
    },
    {
      "cell_type": "code",
      "execution_count": null,
      "metadata": {
        "id": "HMV6pMqGDWn9"
      },
      "outputs": [],
      "source": [
        "# !pip install kaggle\n",
        "# !mkdir ~/.kaggle\n",
        "!cp kaggle.json ~/.kaggle/\n",
        "!chmod 600 ~/.kaggle/kaggle.json"
      ]
    },
    {
      "cell_type": "markdown",
      "source": [
        "We download it by inputting the name of the dataset shown in Kaggle."
      ],
      "metadata": {
        "id": "m4IdJBKcibJz"
      }
    },
    {
      "cell_type": "code",
      "execution_count": null,
      "metadata": {
        "colab": {
          "base_uri": "https://localhost:8080/"
        },
        "id": "7HHz60NlnY9u",
        "outputId": "27a3c2ae-41df-4062-af60-1609397155ba"
      },
      "outputs": [
        {
          "output_type": "stream",
          "name": "stdout",
          "text": [
            "stanford-dogs-dataset-traintest.zip: Skipping, found more recently modified local copy (use --force to force download)\n"
          ]
        }
      ],
      "source": [
        "!kaggle datasets download -d miljan/stanford-dogs-dataset-traintest"
      ]
    },
    {
      "cell_type": "markdown",
      "source": [
        "We unzip the data we've downloaded from Kaggle."
      ],
      "metadata": {
        "id": "atU5rTQ4zE7b"
      }
    },
    {
      "cell_type": "code",
      "execution_count": null,
      "metadata": {
        "colab": {
          "base_uri": "https://localhost:8080/"
        },
        "id": "L5_gbU3bnZrP",
        "outputId": "cf2fee9a-1d1a-4e2b-f68c-f6e5c5716138"
      },
      "outputs": [
        {
          "output_type": "stream",
          "name": "stdout",
          "text": [
            "Archive:  stanford-dogs-dataset-traintest.zip\n",
            "replace cropped/cropped/test/n02085620-Chihuahua/n02085620_10074.jpg? [y]es, [n]o, [A]ll, [N]one, [r]ename: N\n"
          ]
        }
      ],
      "source": [
        "!unzip stanford-dogs-dataset-traintest.zip"
      ]
    },
    {
      "cell_type": "markdown",
      "source": [
        "We import all the necessary libraries and functions to run our code."
      ],
      "metadata": {
        "id": "QooPGkPszJrD"
      }
    },
    {
      "cell_type": "code",
      "execution_count": null,
      "metadata": {
        "id": "qcnWY5Wzvuc4"
      },
      "outputs": [],
      "source": [
        "import matplotlib.pyplot as plt\n",
        "from pandas.core.common import flatten\n",
        "import copy\n",
        "import numpy as np\n",
        "import random\n",
        "\n",
        "import torch\n",
        "from torch import nn\n",
        "from torch import optim\n",
        "import torch.nn.functional as F\n",
        "from torchvision import datasets, transforms, models\n",
        "from torch.utils.data import Dataset, DataLoader\n",
        "\n",
        "import albumentations as A\n",
        "from albumentations.pytorch import ToTensorV2\n",
        "import cv2\n",
        "\n",
        "import glob\n",
        "from tqdm import tqdm"
      ]
    },
    {
      "cell_type": "markdown",
      "source": [
        "We create a class to read the images we've downloaded."
      ],
      "metadata": {
        "id": "vKy3f2n0zQWO"
      }
    },
    {
      "cell_type": "code",
      "execution_count": null,
      "metadata": {
        "id": "errAGqeuxZG4"
      },
      "outputs": [],
      "source": [
        "class Dataset(Dataset):\n",
        "    def __init__(self, image_paths, transform=False):\n",
        "        self.image_paths = image_paths\n",
        "        self.transform = transform\n",
        "\n",
        "    def __len__(self):\n",
        "        return len(self.image_paths)\n",
        "\n",
        "    def __getitem__(self, idx):\n",
        "        image_filepath = self.image_paths[idx]\n",
        "        image = cv2.imread(image_filepath)\n",
        "        image = cv2.cvtColor(image, cv2.COLOR_BGR2RGB)\n",
        "\n",
        "        label = image_filepath.split('/')[-2]\n",
        "        label = class_to_idx[label]\n",
        "        if self.transform is not None:\n",
        "            image = self.transform(image=image)[\"image\"]\n",
        "\n",
        "        return image, label\n",
        "\n",
        "\n",
        "    def get_labels(self, idx):\n",
        "      image_filepath = self.image_paths[idx]\n",
        "      label = image_filepath.split('/')[-2]\n",
        "      label = class_to_idx[label]\n",
        "      return label"
      ]
    },
    {
      "cell_type": "markdown",
      "source": [
        "We obtain all the images from the train and test folders. We then split the train images into training and validation sets. We also check the number of images in each set."
      ],
      "metadata": {
        "id": "cxyed9cbzW39"
      }
    },
    {
      "cell_type": "code",
      "execution_count": null,
      "metadata": {
        "id": "r6el9cG6GQSJ",
        "colab": {
          "base_uri": "https://localhost:8080/"
        },
        "outputId": "dde99055-0eb2-44f0-e1a7-f9ba4ef46929"
      },
      "outputs": [
        {
          "output_type": "stream",
          "name": "stdout",
          "text": [
            "train_image_path example:  cropped/train/n02099849-Chesapeake_Bay_retriever/n02099849_3203.jpg\n",
            "class example:  n02086079-Pekinese\n",
            "Train size: 8400\n",
            "Valid size: 3600\n",
            "Test size: 8580\n"
          ]
        }
      ],
      "source": [
        "train_data_path = 'cropped/train'\n",
        "test_data_path = 'cropped/test'\n",
        "\n",
        "train_image_paths = []\n",
        "classes = []\n",
        "\n",
        "for data_path in glob.glob(train_data_path + '/*'):\n",
        "    classes.append(data_path.split('/')[-1])\n",
        "    train_image_paths.append(glob.glob(data_path + '/*'))\n",
        "\n",
        "train_image_paths = list(flatten(train_image_paths))\n",
        "random.shuffle(train_image_paths)\n",
        "\n",
        "print('train_image_path example: ', train_image_paths[0])\n",
        "print('class example: ', classes[0])\n",
        "\n",
        "train_image_paths, valid_image_paths = train_image_paths[:int(0.7*len(train_image_paths))], train_image_paths[int(0.7*len(train_image_paths)):]\n",
        "\n",
        "test_image_paths = []\n",
        "for data_path in glob.glob(test_data_path + '/*'):\n",
        "    test_image_paths.append(glob.glob(data_path + '/*'))\n",
        "\n",
        "test_image_paths = list(flatten(test_image_paths))\n",
        "\n",
        "print(\"Train size: {}\\nValid size: {}\\nTest size: {}\".format(len(train_image_paths), len(valid_image_paths), len(test_image_paths)))"
      ]
    },
    {
      "cell_type": "markdown",
      "source": [
        "We check the number of classes."
      ],
      "metadata": {
        "id": "ZQJ47piTz3HF"
      }
    },
    {
      "cell_type": "code",
      "execution_count": null,
      "metadata": {
        "id": "7SzxiYwLHMLv",
        "colab": {
          "base_uri": "https://localhost:8080/"
        },
        "outputId": "b857a83c-be60-4e52-84c4-e3c7ac2a60b2"
      },
      "outputs": [
        {
          "output_type": "stream",
          "name": "stdout",
          "text": [
            "120\n"
          ]
        }
      ],
      "source": [
        "print(len(classes))"
      ]
    },
    {
      "cell_type": "markdown",
      "source": [
        "We convert the class names into numbers for easier computing."
      ],
      "metadata": {
        "id": "xHIFSZKoz5Oa"
      }
    },
    {
      "cell_type": "code",
      "execution_count": null,
      "metadata": {
        "id": "JYzLv-1IHMz6",
        "colab": {
          "base_uri": "https://localhost:8080/"
        },
        "outputId": "c853924c-7266-479c-e243-64710c0a693e"
      },
      "outputs": [
        {
          "output_type": "stream",
          "name": "stdout",
          "text": [
            "{'n02086079-Pekinese': 0, 'n02111129-Leonberg': 1, 'n02089078-black-and-tan_coonhound': 2, 'n02091032-Italian_greyhound': 3, 'n02112706-Brabancon_griffon': 4, 'n02110063-malamute': 5, 'n02093859-Kerry_blue_terrier': 6, 'n02098413-Lhasa': 7, 'n02104365-schipperke': 8, 'n02102973-Irish_water_spaniel': 9, 'n02108422-bull_mastiff': 10, 'n02097658-silky_terrier': 11, 'n02110958-pug': 12, 'n02109961-Eskimo_dog': 13, 'n02106030-collie': 14, 'n02101388-Brittany_spaniel': 15, 'n02105505-komondor': 16, 'n02115641-dingo': 17, 'n02108551-Tibetan_mastiff': 18, 'n02105251-briard': 19, 'n02092339-Weimaraner': 20, 'n02100735-English_setter': 21, 'n02105855-Shetland_sheepdog': 22, 'n02086646-Blenheim_spaniel': 23, 'n02090379-redbone': 24, 'n02111277-Newfoundland': 25, 'n02113023-Pembroke': 26, 'n02085782-Japanese_spaniel': 27, 'n02113978-Mexican_hairless': 28, 'n02099849-Chesapeake_Bay_retriever': 29, 'n02112137-chow': 30, 'n02095570-Lakeland_terrier': 31, 'n02112350-keeshond': 32, 'n02106382-Bouvier_des_Flandres': 33, 'n02098286-West_Highland_white_terrier': 34, 'n02108089-boxer': 35, 'n02089973-English_foxhound': 36, 'n02091831-Saluki': 37, 'n02093647-Bedlington_terrier': 38, 'n02111500-Great_Pyrenees': 39, 'n02093428-American_Staffordshire_terrier': 40, 'n02093256-Staffordshire_bullterrier': 41, 'n02099712-Labrador_retriever': 42, 'n02088238-basset': 43, 'n02104029-kuvasz': 44, 'n02105162-malinois': 45, 'n02106550-Rottweiler': 46, 'n02087046-toy_terrier': 47, 'n02092002-Scottish_deerhound': 48, 'n02112018-Pomeranian': 49, 'n02107908-Appenzeller': 50, 'n02107683-Bernese_mountain_dog': 51, 'n02110185-Siberian_husky': 52, 'n02116738-African_hunting_dog': 53, 'n02101556-clumber': 54, 'n02095889-Sealyham_terrier': 55, 'n02099601-golden_retriever': 56, 'n02115913-dhole': 57, 'n02088466-bloodhound': 58, 'n02099429-curly-coated_retriever': 59, 'n02099267-flat-coated_retriever': 60, 'n02111889-Samoyed': 61, 'n02086910-papillon': 62, 'n02107142-Doberman': 63, 'n02108915-French_bulldog': 64, 'n02097209-standard_schnauzer': 65, 'n02093991-Irish_terrier': 66, 'n02109047-Great_Dane': 67, 'n02090622-borzoi': 68, 'n02102040-English_springer': 69, 'n02108000-EntleBucher': 70, 'n02109525-Saint_Bernard': 71, 'n02113186-Cardigan': 72, 'n02094258-Norwich_terrier': 73, 'n02094433-Yorkshire_terrier': 74, 'n02110806-basenji': 75, 'n02091134-whippet': 76, 'n02100236-German_short-haired_pointer': 77, 'n02086240-Shih-Tzu': 78, 'n02102318-cocker_spaniel': 79, 'n02105056-groenendael': 80, 'n02096585-Boston_bull': 81, 'n02098105-soft-coated_wheaten_terrier': 82, 'n02087394-Rhodesian_ridgeback': 83, 'n02095314-wire-haired_fox_terrier': 84, 'n02113799-standard_poodle': 85, 'n02107574-Greater_Swiss_Mountain_dog': 86, 'n02091244-Ibizan_hound': 87, 'n02093754-Border_terrier': 88, 'n02113712-miniature_poodle': 89, 'n02101006-Gordon_setter': 90, 'n02106166-Border_collie': 91, 'n02097474-Tibetan_terrier': 92, 'n02113624-toy_poodle': 93, 'n02096294-Australian_terrier': 94, 'n02088094-Afghan_hound': 95, 'n02089867-Walker_hound': 96, 'n02097130-giant_schnauzer': 97, 'n02107312-miniature_pinscher': 98, 'n02085620-Chihuahua': 99, 'n02088632-bluetick': 100, 'n02085936-Maltese_dog': 101, 'n02110627-affenpinscher': 102, 'n02097047-miniature_schnauzer': 103, 'n02094114-Norfolk_terrier': 104, 'n02096437-Dandie_Dinmont': 105, 'n02106662-German_shepherd': 106, 'n02096051-Airedale': 107, 'n02105641-Old_English_sheepdog': 108, 'n02105412-kelpie': 109, 'n02100583-vizsla': 110, 'n02090721-Irish_wolfhound': 111, 'n02102177-Welsh_springer_spaniel': 112, 'n02088364-beagle': 113, 'n02097298-Scotch_terrier': 114, 'n02100877-Irish_setter': 115, 'n02091635-otterhound': 116, 'n02096177-cairn': 117, 'n02091467-Norwegian_elkhound': 118, 'n02102480-Sussex_spaniel': 119}\n"
          ]
        }
      ],
      "source": [
        "idx_to_class = {i:j for i, j in enumerate(classes)}\n",
        "class_to_idx = {value:key for key,value in idx_to_class.items()}\n",
        "print(class_to_idx)"
      ]
    },
    {
      "cell_type": "markdown",
      "source": [
        "We transform each image to desired size, color, scale, etc."
      ],
      "metadata": {
        "id": "7czemKrH0EEQ"
      }
    },
    {
      "cell_type": "code",
      "execution_count": null,
      "metadata": {
        "id": "BNQiQcXEHb6x"
      },
      "outputs": [],
      "source": [
        "train_transforms = A.Compose(\n",
        "    [\n",
        "        A.Resize (height=32, width=32),\n",
        "        A.ShiftScaleRotate(shift_limit=0.05, scale_limit=0.05, rotate_limit=360, p=0.5),\n",
        "        A.RGBShift(r_shift_limit=15, g_shift_limit=15, b_shift_limit=15, p=0.5),\n",
        "        A.RandomBrightnessContrast(p=0.5),\n",
        "        A.MultiplicativeNoise(multiplier=[0.5,2], per_channel=True, p=0.2),\n",
        "        A.Normalize(mean=(0.485, 0.456, 0.406), std=(0.229, 0.224, 0.225)),\n",
        "        A.HueSaturationValue(hue_shift_limit=0.2, sat_shift_limit=0.2, val_shift_limit=0.2, p=0.5),\n",
        "        A.RandomBrightnessContrast(brightness_limit=(-0.1,0.1), contrast_limit=(-0.1, 0.1), p=0.5),\n",
        "        ToTensorV2(),\n",
        "    ]\n",
        ")\n",
        "\n",
        "test_transforms = A.Compose(\n",
        "    [\n",
        "        A.Resize (height=32, width=32),\n",
        "        A.Normalize(mean=(0.485, 0.456, 0.406), std=(0.229, 0.224, 0.225)),\n",
        "        ToTensorV2(),\n",
        "    ]\n",
        ")"
      ]
    },
    {
      "cell_type": "markdown",
      "source": [
        "We assign each training, validation, and testing variables to different data sets. We use DataLoader to create batch sizes and shuffle the data."
      ],
      "metadata": {
        "id": "vHApRIkZ0RP8"
      }
    },
    {
      "cell_type": "code",
      "execution_count": null,
      "metadata": {
        "id": "50o7izVDHciy"
      },
      "outputs": [],
      "source": [
        "train_dataset = Dataset(train_image_paths,train_transforms)\n",
        "valid_dataset = Dataset(valid_image_paths,train_transforms)\n",
        "test_dataset = Dataset(test_image_paths,test_transforms)\n",
        "train_loader = DataLoader(train_dataset, batch_size=64, shuffle=True)\n",
        "valid_loader = DataLoader(valid_dataset, batch_size=64, shuffle=True)\n",
        "test_loader = DataLoader(test_dataset, batch_size=64, shuffle=False)"
      ]
    },
    {
      "cell_type": "markdown",
      "source": [
        "We visualise a few random images from our training set."
      ],
      "metadata": {
        "id": "okhO_ZaH22pu"
      }
    },
    {
      "cell_type": "code",
      "execution_count": null,
      "metadata": {
        "id": "tzCPOd7LHxHi",
        "colab": {
          "base_uri": "https://localhost:8080/",
          "height": 404
        },
        "outputId": "88b9228e-46ad-4ee3-8f70-e2ce104d47e1"
      },
      "outputs": [
        {
          "output_type": "display_data",
          "data": {
            "text/plain": [
              "<Figure size 864x576 with 10 Axes>"
            ],
            "image/png": "[encoded data removed]"
          },
          "metadata": {
            "needs_background": "light"
          }
        }
      ],
      "source": [
        "def visualize_augmentations(dataset, idx=0, samples=10, cols=5, random_img = False):\n",
        "\n",
        "    dataset = copy.deepcopy(dataset)\n",
        "    dataset.transform = A.Compose([t for t in dataset.transform if not isinstance(t, (A.Normalize, ToTensorV2))])\n",
        "    rows = samples // cols\n",
        "\n",
        "\n",
        "    figure, ax = plt.subplots(nrows=rows, ncols=cols, figsize=(12, 8))\n",
        "    for i in range(samples):\n",
        "        if random_img:\n",
        "            idx = np.random.randint(1,len(train_image_paths))\n",
        "        image, lab = dataset[idx]\n",
        "        ax.ravel()[i].imshow(image)\n",
        "        ax.ravel()[i].set_axis_off()\n",
        "        ax.ravel()[i].set_title(idx_to_class[lab])\n",
        "    plt.tight_layout(pad=1)\n",
        "    plt.show()\n",
        "\n",
        "visualize_augmentations(train_dataset,np.random.randint(1,len(train_image_paths)), random_img = True)"
      ]
    },
    {
      "cell_type": "markdown",
      "source": [
        "# **Convolutional Neural Network**"
      ],
      "metadata": {
        "id": "4RSkeI-sA-Do"
      }
    },
    {
      "cell_type": "markdown",
      "source": [
        "We create a neural network architecture to train our model."
      ],
      "metadata": {
        "id": "REoJQYfR3KlK"
      }
    },
    {
      "cell_type": "code",
      "source": [
        "class Net1(nn.Module):\n",
        "    def __init__(self, num_classes=120):\n",
        "        super(Net1, self).__init__()\n",
        "        self.layer1 = nn.Sequential(\n",
        "            nn.Conv2d(3, 16, kernel_size=3, stride=2, padding=1),\n",
        "            nn.ReLU())\n",
        "        self.layer2 = nn.Sequential(\n",
        "            nn.Conv2d(16, 32, kernel_size=3, stride=2, padding=1),\n",
        "            nn.ReLU())\n",
        "        self.layer3 = nn.Sequential(\n",
        "            nn.Conv2d(32, 64, kernel_size=3, stride=2, padding=1),\n",
        "            nn.ReLU())\n",
        "        self.fc1 = nn.Sequential(\n",
        "            nn.Linear(1024, 64),\n",
        "            nn.ReLU())\n",
        "        self.fc2 = nn.Sequential(\n",
        "            nn.Linear(64, 10),\n",
        "            nn.ReLU())\n",
        "        self.fc3 = nn.Sequential(\n",
        "            nn.Linear(10,120),\n",
        "            nn.Softmax())\n",
        "\n",
        "    def forward(self, x):\n",
        "        out = self.layer1(x)\n",
        "        out = self.layer2(out)\n",
        "        out = self.layer3(out)\n",
        "        out = out.reshape(out.size(0), -1)\n",
        "        out = self.fc1(out)\n",
        "        out = self.fc2(out)\n",
        "        out = self.fc3(out)\n",
        "        return out"
      ],
      "metadata": {
        "id": "uEVekq9LwhQN"
      },
      "execution_count": null,
      "outputs": []
    },
    {
      "cell_type": "markdown",
      "source": [
        "We create a variable to define our neural network, loss function, and optimizer."
      ],
      "metadata": {
        "id": "wD92UuZm6AhW"
      }
    },
    {
      "cell_type": "code",
      "source": [
        "net1 = Net1()\n",
        "criterion1 = nn.CrossEntropyLoss()\n",
        "optimizer1 = torch.optim.SGD(net1.parameters(), lr=0.01)"
      ],
      "metadata": {
        "id": "8hc-9WI1zgPx"
      },
      "execution_count": null,
      "outputs": []
    },
    {
      "cell_type": "markdown",
      "source": [
        "We train our data and set our epoch to 5. We then check our training and validation loss."
      ],
      "metadata": {
        "id": "8HV15HhM6IkF"
      }
    },
    {
      "cell_type": "code",
      "source": [
        "epochs = 5\n",
        "\n",
        "train_mean_losses = []\n",
        "valid_mean_losses = []\n",
        "\n",
        "valid_best_loss = np.inf\n",
        "\n",
        "for i in range(epochs):\n",
        "    #===============================================================\n",
        "    # training\n",
        "    train_losses = []\n",
        "\n",
        "    print(\"=========================================================\")\n",
        "    print(\"Epoch {}\".format(i))\n",
        "\n",
        "    for iteration, batch_data in enumerate(train_loader):\n",
        "        x_batch, y_batch = batch_data\n",
        "\n",
        "        optimizer1.zero_grad()\n",
        "\n",
        "        out = net1(x_batch)\n",
        "        loss = criterion1(out, y_batch.squeeze())\n",
        "\n",
        "        loss.backward()\n",
        "        optimizer1.step()\n",
        "\n",
        "        train_losses.append(loss)\n",
        "\n",
        "    train_mean_loss = torch.mean(torch.stack(train_losses))\n",
        "    print('training loss: {:10.8f}'.format(train_mean_loss))\n",
        "\n",
        "    train_mean_losses.append(train_mean_loss)\n",
        "\n",
        "    #===============================================================\n",
        "    # validation\n",
        "    valid_losses = []\n",
        "    with torch.set_grad_enabled(False):\n",
        "        for iteration, batch_data in enumerate(valid_loader):\n",
        "            x_batch, y_batch = batch_data\n",
        "\n",
        "            out = net1(x_batch)\n",
        "            loss = criterion1(out, y_batch.squeeze())\n",
        "            valid_losses.append(loss)\n",
        "\n",
        "        valid_mean_loss = torch.mean(torch.stack(valid_losses))\n",
        "        print('validation loss: {:10.8f}'.format(valid_mean_loss))\n",
        "\n",
        "        valid_mean_losses.append(valid_mean_loss)\n",
        "\n",
        "        if valid_mean_loss.cpu().numpy()[()] < valid_best_loss:\n",
        "            valid_best_loss = valid_mean_loss\n",
        "            torch.save(net1.state_dict(), \"best_model.pth\")\n",
        "            best_epoch = i\n",
        "    #===============================================================\n",
        ""
      ],
      "metadata": {
        "colab": {
          "base_uri": "https://localhost:8080/"
        },
        "id": "q8-5nkcgzt3p",
        "outputId": "4020056a-0e0f-48ba-d173-e6470d706012"
      },
      "execution_count": null,
      "outputs": [
        {
          "output_type": "stream",
          "name": "stdout",
          "text": [
            "=========================================================\n",
            "Epoch 0\n"
          ]
        },
        {
          "output_type": "stream",
          "name": "stderr",
          "text": [
            "/usr/local/lib/python3.7/dist-packages/torch/nn/modules/container.py:139: UserWarning: Implicit dimension choice for softmax has been deprecated. Change the call to include dim=X as an argument.\n",
            "  input = module(input)\n"
          ]
        },
        {
          "output_type": "stream",
          "name": "stdout",
          "text": [
            "training loss: 4.78749847\n",
            "validation loss: 4.78748035\n",
            "=========================================================\n",
            "Epoch 1\n",
            "training loss: 4.78750038\n",
            "validation loss: 4.78749609\n",
            "=========================================================\n",
            "Epoch 2\n",
            "training loss: 4.78749847\n",
            "validation loss: 4.78747606\n",
            "=========================================================\n",
            "Epoch 3\n",
            "training loss: 4.78749275\n",
            "validation loss: 4.78748083\n",
            "=========================================================\n",
            "Epoch 4\n",
            "training loss: 4.78750038\n",
            "validation loss: 4.78748131\n"
          ]
        }
      ]
    },
    {
      "cell_type": "markdown",
      "source": [
        "We plot our training and validation loss."
      ],
      "metadata": {
        "id": "PmvnFj-z6QFN"
      }
    },
    {
      "cell_type": "code",
      "source": [
        "plt.figure(figsize=(20,10))\n",
        "t = [i.item() for i in train_mean_losses]\n",
        "plt.plot(range(1,epochs+1), t)\n",
        "v = [j.item() for j in valid_mean_losses]\n",
        "plt.plot(range(1,epochs+1), v)\n",
        "plt.xlabel('epochs')\n",
        "plt.ylabel('loss')\n",
        "plt.title('Train and Validation Loss Plot')\n",
        "plt.show()\n",
        "max_y = max(t)\n",
        "max_x = range(1,epochs+1)[t.index(max_y)]\n",
        "print(max_x, max_y)"
      ],
      "metadata": {
        "colab": {
          "base_uri": "https://localhost:8080/",
          "height": 631
        },
        "id": "JVtKImCD0WvW",
        "outputId": "efca5af1-3775-4da4-cb21-bd9ebe712abd"
      },
      "execution_count": null,
      "outputs": [
        {
          "output_type": "display_data",
          "data": {
            "text/plain": [
              "<Figure size 1440x720 with 1 Axes>"
            ],
            "image/png": "[encoded data removed]"
          },
          "metadata": {
            "needs_background": "light"
          }
        },
        {
          "output_type": "stream",
          "name": "stdout",
          "text": [
            "2 4.787500381469727\n"
          ]
        }
      ]
    },
    {
      "cell_type": "markdown",
      "source": [
        "We assign the accuracy of the first model to a variable."
      ],
      "metadata": {
        "id": "0qSp94Sg6fxU"
      }
    },
    {
      "cell_type": "code",
      "source": [
        "test_acc = 0\n",
        "net1.eval()\n",
        "\n",
        "with torch.no_grad():\n",
        "    for i, (x_batch, y_batch) in enumerate(test_loader):\n",
        "        out = net1(x_batch)\n",
        "        _, y_pred = torch.max(out.data, 1)\n",
        "        test_acc += (y_pred==y_batch).sum().item()\n",
        "\n",
        "    accuracy1 = round(100*test_acc/len(test_dataset), 8)"
      ],
      "metadata": {
        "id": "mjpc68jTCKyq"
      },
      "execution_count": null,
      "outputs": []
    },
    {
      "cell_type": "markdown",
      "source": [
        "# **Architecture Modification and Hypertuning**"
      ],
      "metadata": {
        "id": "g3q51iKxBBbA"
      }
    },
    {
      "cell_type": "markdown",
      "source": [
        "We create a new neural network architecture with a few additional layers to train our model. MaxPool scales down the data to aggregate information. BatchNorm makes sure the values of hidden layers have standardized mean and variance. Dropout removes random neurons to reduce overfitting."
      ],
      "metadata": {
        "id": "olggXgI66k9F"
      }
    },
    {
      "cell_type": "code",
      "source": [
        "class Net2(nn.Module):\n",
        "    def __init__(self, num_classes=120):\n",
        "        super(Net2, self).__init__()\n",
        "        self.layer1 = nn.Sequential(\n",
        "            nn.Conv2d(3, 16, kernel_size=3, stride=2, padding=1),\n",
        "            nn.ReLU(),\n",
        "            nn.BatchNorm2d(16))\n",
        "        self.layer2 = nn.Sequential(\n",
        "            nn.Conv2d(16, 32, kernel_size=3, stride=2, padding=1),\n",
        "            nn.ReLU(),\n",
        "            nn.MaxPool2d(kernel_size = 2, stride = 2),\n",
        "            nn.BatchNorm2d(32))\n",
        "        self.layer3 = nn.Sequential(\n",
        "            nn.Conv2d(32, 64, kernel_size=3, stride=2, padding=1),\n",
        "            nn.ReLU(),\n",
        "            nn.MaxPool2d(kernel_size = 2, stride = 2),\n",
        "            nn.BatchNorm2d(64))\n",
        "        self.fc1 = nn.Sequential(\n",
        "            nn.Dropout(0.5),\n",
        "            nn.Linear(64, 64),\n",
        "            nn.ReLU(),\n",
        "            nn.BatchNorm1d(64))\n",
        "        self.fc2 = nn.Sequential(\n",
        "            nn.Dropout(0.5),\n",
        "            nn.Linear(64, 10),\n",
        "            nn.ReLU())\n",
        "        self.fc3 = nn.Sequential(\n",
        "            nn.Linear(10,120),\n",
        "            nn.Softmax())\n",
        "\n",
        "    def forward(self, x):\n",
        "        out = self.layer1(x)\n",
        "        out = self.layer2(out)\n",
        "        out = self.layer3(out)\n",
        "        out = out.reshape(out.size(0), -1)\n",
        "        out = self.fc1(out)\n",
        "        out = self.fc2(out)\n",
        "        out = self.fc3(out)\n",
        "        return out"
      ],
      "metadata": {
        "id": "E0i8k7XoAzdI"
      },
      "execution_count": null,
      "outputs": []
    },
    {
      "cell_type": "markdown",
      "source": [
        "We create a variable to define our neural network, loss function, and optimizer."
      ],
      "metadata": {
        "id": "saLOCmjP-JLd"
      }
    },
    {
      "cell_type": "code",
      "source": [
        "net2 = Net2()\n",
        "criterion2 = nn.CrossEntropyLoss()\n",
        "optimizer2 = torch.optim.SGD(net2.parameters(), lr=0.01)"
      ],
      "metadata": {
        "id": "hJzurLmiOSnQ"
      },
      "execution_count": null,
      "outputs": []
    },
    {
      "cell_type": "markdown",
      "source": [
        "We train our data and keep our epoch as 5. We then check our training and validation loss."
      ],
      "metadata": {
        "id": "oZBvY3VU-MX1"
      }
    },
    {
      "cell_type": "code",
      "source": [
        "epochs = 5\n",
        "\n",
        "train_mean_losses = []\n",
        "valid_mean_losses = []\n",
        "\n",
        "valid_best_loss = np.inf\n",
        "\n",
        "for i in range(epochs):\n",
        "    #===============================================================\n",
        "    # training\n",
        "    train_losses = []\n",
        "\n",
        "    print(\"=========================================================\")\n",
        "    print(\"Epoch {}\".format(i))\n",
        "\n",
        "    for iteration, batch_data in enumerate(train_loader):\n",
        "        x_batch, y_batch = batch_data\n",
        "\n",
        "        optimizer2.zero_grad()\n",
        "\n",
        "        out = net2(x_batch)\n",
        "        loss = criterion1(out, y_batch.squeeze())\n",
        "\n",
        "        loss.backward()\n",
        "        optimizer2.step()\n",
        "\n",
        "        train_losses.append(loss)\n",
        "\n",
        "    train_mean_loss = torch.mean(torch.stack(train_losses))\n",
        "    print('training loss: {:10.8f}'.format(train_mean_loss))\n",
        "\n",
        "    train_mean_losses.append(train_mean_loss)\n",
        "\n",
        "    #===============================================================\n",
        "    # validation\n",
        "    valid_losses = []\n",
        "    with torch.set_grad_enabled(False):\n",
        "        for iteration, batch_data in enumerate(valid_loader):\n",
        "            x_batch, y_batch = batch_data\n",
        "\n",
        "            out = net2(x_batch)\n",
        "            loss = criterion1(out, y_batch.squeeze())\n",
        "            valid_losses.append(loss)\n",
        "\n",
        "        valid_mean_loss = torch.mean(torch.stack(valid_losses))\n",
        "        print('validation loss: {:10.8f}'.format(valid_mean_loss))\n",
        "\n",
        "        valid_mean_losses.append(valid_mean_loss)\n",
        "\n",
        "        if valid_mean_loss.cpu().numpy()[()] < valid_best_loss:\n",
        "            valid_best_loss = valid_mean_loss\n",
        "            torch.save(net2.state_dict(), \"best_model.pth\")\n",
        "            best_epoch = i\n",
        "    #===============================================================\n",
        ""
      ],
      "metadata": {
        "colab": {
          "base_uri": "https://localhost:8080/"
        },
        "id": "Q4TKhAv0ONmW",
        "outputId": "52e01590-6b39-443b-a2db-1c3436a413be"
      },
      "execution_count": null,
      "outputs": [
        {
          "output_type": "stream",
          "name": "stdout",
          "text": [
            "=========================================================\n",
            "Epoch 0\n",
            "training loss: 4.78749657\n",
            "validation loss: 4.78751087\n",
            "=========================================================\n",
            "Epoch 1\n",
            "training loss: 4.78748035\n",
            "validation loss: 4.78749180\n",
            "=========================================================\n",
            "Epoch 2\n",
            "training loss: 4.78744793\n",
            "validation loss: 4.78748941\n",
            "=========================================================\n",
            "Epoch 3\n",
            "training loss: 4.78752613\n",
            "validation loss: 4.78742743\n",
            "=========================================================\n",
            "Epoch 4\n",
            "training loss: 4.78751707\n",
            "validation loss: 4.78755331\n"
          ]
        }
      ]
    },
    {
      "cell_type": "markdown",
      "source": [
        "We plot our training and validation loss."
      ],
      "metadata": {
        "id": "CotDOD9fGQ-L"
      }
    },
    {
      "cell_type": "code",
      "source": [
        "plt.figure(figsize=(20,10))\n",
        "t = [i.item() for i in train_mean_losses]\n",
        "plt.plot(range(1,epochs+1), t)\n",
        "v = [j.item() for j in valid_mean_losses]\n",
        "plt.plot(range(1,epochs+1), v)\n",
        "plt.xlabel('epochs')\n",
        "plt.ylabel('loss')\n",
        "plt.title('Train and Validation Loss Plot')\n",
        "plt.show()\n",
        "max_y = max(t)\n",
        "max_x = range(1,epochs+1)[t.index(max_y)]\n",
        "print(max_x, max_y)"
      ],
      "metadata": {
        "colab": {
          "base_uri": "https://localhost:8080/",
          "height": 658
        },
        "id": "R8DNzwnFFnLJ",
        "outputId": "8cc57f43-c2bc-4ffd-9caa-962d126a452c"
      },
      "execution_count": null,
      "outputs": [
        {
          "output_type": "display_data",
          "data": {
            "text/plain": [
              "<Figure size 1440x720 with 1 Axes>"
            ],
            "image/png": "[encoded data removed]"
          },
          "metadata": {
            "needs_background": "light"
          }
        },
        {
          "output_type": "stream",
          "name": "stdout",
          "text": [
            "4 4.7875261306762695\n"
          ]
        }
      ]
    },
    {
      "cell_type": "markdown",
      "source": [
        "We assign the accuracy of the second model to a variable."
      ],
      "metadata": {
        "id": "ltmwVkYf-SpY"
      }
    },
    {
      "cell_type": "code",
      "source": [
        "test_acc = 0\n",
        "net2.eval()\n",
        "\n",
        "with torch.no_grad():\n",
        "    for i, (x_batch, y_batch) in enumerate(test_loader):\n",
        "        out = net2(x_batch)\n",
        "        _, y_pred = torch.max(out.data, 1)\n",
        "        test_acc += (y_pred==y_batch).sum().item()\n",
        "\n",
        "    accuracy2 = round(100*test_acc/len(test_dataset), 8)"
      ],
      "metadata": {
        "id": "fY6A576ZersW"
      },
      "execution_count": null,
      "outputs": []
    },
    {
      "cell_type": "markdown",
      "source": [
        "We import all the required libraries and functions to hypertune our model. We then create a function which tune our optimizer and report the accuracy to RayTune."
      ],
      "metadata": {
        "id": "LQa_jATZ-Xh8"
      }
    },
    {
      "cell_type": "code",
      "source": [
        "import ray\n",
        "from ray import tune, air\n",
        "from ray.air import session\n",
        "from ray.tune.search.hyperopt import HyperOptSearch\n",
        "\n",
        "def objective(config):\n",
        "    optimizer = torch.optim.SGD(net2.parameters(), lr=config[\"lr\"], momentum=config[\"momentum\"])\n",
        "    while True:\n",
        "        session.report({\"accuracy\": accuracy2})"
      ],
      "metadata": {
        "id": "MLiAsRNEaVEb"
      },
      "execution_count": null,
      "outputs": []
    },
    {
      "cell_type": "markdown",
      "source": [
        "We define our search space and search algorithm."
      ],
      "metadata": {
        "id": "tVXE3NQq-nSa"
      }
    },
    {
      "cell_type": "code",
      "source": [
        "search_space = {\"lr\": tune.loguniform(1e-4, 1e-2), \"momentum\": tune.uniform(0.1, 0.9)}\n",
        "algo = HyperOptSearch()"
      ],
      "metadata": {
        "id": "We1E10BXcjYW"
      },
      "execution_count": null,
      "outputs": []
    },
    {
      "cell_type": "markdown",
      "source": [
        "We tune our model and fit to obtain the configuration."
      ],
      "metadata": {
        "id": "V5zAMypC-qq0"
      }
    },
    {
      "cell_type": "code",
      "source": [
        "tuner = tune.Tuner(\n",
        "    objective,\n",
        "    tune_config=tune.TuneConfig(\n",
        "        metric=\"accuracy\",\n",
        "        mode=\"max\",\n",
        "        search_alg=algo,\n",
        "    ),\n",
        "    run_config=air.RunConfig(\n",
        "        stop={\"training_iteration\": 5},\n",
        "    ),\n",
        "    param_space=search_space,\n",
        ")\n",
        "results = tuner.fit()\n",
        "results.get_best_result().config"
      ],
      "metadata": {
        "id": "1sD_bLb9codV",
        "colab": {
          "base_uri": "https://localhost:8080/",
          "height": 421
        },
        "outputId": "50d03875-83bd-44e6-af09-ea987d4a7b7a"
      },
      "execution_count": null,
      "outputs": [
        {
          "output_type": "stream",
          "name": "stderr",
          "text": [
            "2022-11-24 09:47:37,311\tINFO worker.py:1528 -- Started a local Ray instance.\n",
            "2022-11-24 09:47:39,858\tWARNING function_trainable.py:587 -- Function checkpointing is disabled. This may result in unexpected behavior when using checkpointing features or certain schedulers. To enable, set the train function arguments to be `func(config, checkpoint_dir=None)`.\n",
            "2022-11-24 09:47:39,901\tINFO tensorboardx.py:170 -- pip install \"ray[tune]\" to see TensorBoard files.\n",
            "2022-11-24 09:47:39,902\tWARNING callback.py:109 -- The TensorboardX logger cannot be instantiated because either TensorboardX or one of it's dependencies is not installed. Please make sure you have the latest version of TensorboardX installed: `pip install -U tensorboardx`\n"
          ]
        },
        {
          "output_type": "display_data",
          "data": {
            "text/plain": [
              "<IPython.core.display.HTML object>"
            ],
            "text/html": [
              "<div class=\"tuneStatus\">\n",
              "  <div style=\"display: flex;flex-direction: row\">\n",
              "    <div style=\"display: flex;flex-direction: column;\">\n",
              "      <h3>Tune Status</h3>\n",
              "      <table>\n",
              "<tbody>\n",
              "<tr><td>Current time:</td><td>2022-11-24 09:47:42</td></tr>\n",
              "<tr><td>Running for: </td><td>00:00:02.97        </td></tr>\n",
              "<tr><td>Memory:      </td><td>1.9/12.7 GiB       </td></tr>\n",
              "</tbody>\n",
              "</table>\n",
              "    </div>\n",
              "    <div class=\"vDivider\"></div>\n",
              "    <div class=\"systemInfo\">\n",
              "      <h3>System Info</h3>\n",
              "      Using FIFO scheduling algorithm.<br>Resources requested: 0/2 CPUs, 0/1 GPUs, 0.0/7.19 GiB heap, 0.0/3.6 GiB objects (0.0/1.0 accelerator_type:T4)\n",
              "    </div>\n",
              "    \n",
              "  </div>\n",
              "  <div class=\"hDivider\"></div>\n",
              "  <div class=\"trialStatus\">\n",
              "    <h3>Trial Status</h3>\n",
              "    <table>\n",
              "<thead>\n",
              "<tr><th>Trial name        </th><th>status    </th><th>loc           </th><th style=\"text-align: right;\">        lr</th><th style=\"text-align: right;\">  momentum</th><th style=\"text-align: right;\">  iter</th><th style=\"text-align: right;\">  total time (s)</th><th style=\"text-align: right;\">  accuracy</th></tr>\n",
              "</thead>\n",
              "<tbody>\n",
              "<tr><td>objective_08e5cdde</td><td>TERMINATED</td><td>172.28.0.2:583</td><td style=\"text-align: right;\">0.00878315</td><td style=\"text-align: right;\">  0.643179</td><td style=\"text-align: right;\">     5</td><td style=\"text-align: right;\">       0.0294709</td><td style=\"text-align: right;\">  0.944056</td></tr>\n",
              "</tbody>\n",
              "</table>\n",
              "  </div>\n",
              "</div>\n",
              "<style>\n",
              ".tuneStatus {\n",
              "  color: var(--jp-ui-font-color1);\n",
              "}\n",
              ".tuneStatus .systemInfo {\n",
              "  display: flex;\n",
              "  flex-direction: column;\n",
              "}\n",
              ".tuneStatus td {\n",
              "  white-space: nowrap;\n",
              "}\n",
              ".tuneStatus .trialStatus {\n",
              "  display: flex;\n",
              "  flex-direction: column;\n",
              "}\n",
              ".tuneStatus h3 {\n",
              "  font-weight: bold;\n",
              "}\n",
              ".tuneStatus .hDivider {\n",
              "  border-bottom-width: var(--jp-border-width);\n",
              "  border-bottom-color: var(--jp-border-color0);\n",
              "  border-bottom-style: solid;\n",
              "}\n",
              ".tuneStatus .vDivider {\n",
              "  border-left-width: var(--jp-border-width);\n",
              "  border-left-color: var(--jp-border-color0);\n",
              "  border-left-style: solid;\n",
              "  margin: 0.5em 1em 0.5em 1em;\n",
              "}\n",
              "</style>\n"
            ]
          },
          "metadata": {}
        },
        {
          "output_type": "display_data",
          "data": {
            "text/plain": [
              "<IPython.core.display.HTML object>"
            ],
            "text/html": [
              "<div class=\"trialProgress\">\n",
              "  <h3>Trial Progress</h3>\n",
              "  <table>\n",
              "<thead>\n",
              "<tr><th>Trial name        </th><th style=\"text-align: right;\">  accuracy</th><th>date               </th><th>done  </th><th>episodes_total  </th><th>experiment_id                   </th><th>hostname    </th><th style=\"text-align: right;\">  iterations_since_restore</th><th>node_ip   </th><th style=\"text-align: right;\">  pid</th><th style=\"text-align: right;\">  time_since_restore</th><th style=\"text-align: right;\">  time_this_iter_s</th><th style=\"text-align: right;\">  time_total_s</th><th style=\"text-align: right;\">  timestamp</th><th style=\"text-align: right;\">  timesteps_since_restore</th><th>timesteps_total  </th><th style=\"text-align: right;\">  training_iteration</th><th>trial_id  </th><th style=\"text-align: right;\">  warmup_time</th></tr>\n",
              "</thead>\n",
              "<tbody>\n",
              "<tr><td>objective_08e5cdde</td><td style=\"text-align: right;\">  0.944056</td><td>2022-11-24_09-47-42</td><td>True  </td><td>                </td><td>83c59188bb224a84886d30fc918a101e</td><td>2699f23c6f45</td><td style=\"text-align: right;\">                         5</td><td>172.28.0.2</td><td style=\"text-align: right;\">  583</td><td style=\"text-align: right;\">           0.0294709</td><td style=\"text-align: right;\">        0.00160789</td><td style=\"text-align: right;\">     0.0294709</td><td style=\"text-align: right;\"> 1669283262</td><td style=\"text-align: right;\">                        0</td><td>                 </td><td style=\"text-align: right;\">                   5</td><td>08e5cdde  </td><td style=\"text-align: right;\">   0.00419331</td></tr>\n",
              "</tbody>\n",
              "</table>\n",
              "</div>\n",
              "<style>\n",
              ".trialProgress {\n",
              "  display: flex;\n",
              "  flex-direction: column;\n",
              "  color: var(--jp-ui-font-color1);\n",
              "}\n",
              ".trialProgress h3 {\n",
              "  font-weight: bold;\n",
              "}\n",
              ".trialProgress td {\n",
              "  white-space: nowrap;\n",
              "}\n",
              "</style>\n"
            ]
          },
          "metadata": {}
        },
        {
          "output_type": "stream",
          "name": "stderr",
          "text": [
            "2022-11-24 09:47:43,005\tINFO tune.py:778 -- Total run time: 3.15 seconds (2.96 seconds for the tuning loop).\n"
          ]
        },
        {
          "output_type": "execute_result",
          "data": {
            "text/plain": [
              "{'lr': 0.008783153704093419, 'momentum': 0.6431793628542298}"
            ]
          },
          "metadata": {},
          "execution_count": 23
        }
      ]
    },
    {
      "cell_type": "markdown",
      "source": [
        "# **Accuracy and Model Comparison**"
      ],
      "metadata": {
        "id": "3-qPTM6KcSXA"
      }
    },
    {
      "cell_type": "markdown",
      "source": [
        "We print each accuracy to compare each model."
      ],
      "metadata": {
        "id": "Zzura7z2-yr7"
      }
    },
    {
      "cell_type": "code",
      "source": [
        "print(\"Model 1 Accuracy =\", accuracy1, \"%\")\n",
        "print(\"Model 2 Accuracy before Hypertuning =\", accuracy2, \"%\")\n",
        "print(\"Model 2 Accuracy after Hypertuning =\", results.get_dataframe().accuracy)"
      ],
      "metadata": {
        "id": "3cBXYYHzCcpL",
        "colab": {
          "base_uri": "https://localhost:8080/"
        },
        "outputId": "07e21715-5109-4e22-88a1-5a302ba3f396"
      },
      "execution_count": null,
      "outputs": [
        {
          "output_type": "stream",
          "name": "stdout",
          "text": [
            "Model 1 Accuracy = 1.10722611 %\n",
            "Model 2 Accuracy before Hypertuning = 0.94405594 %\n",
            "Model 2 Accuracy after Hypertuning = 0    0.944056\n",
            "Name: accuracy, dtype: float64\n"
          ]
        }
      ]
    },
    {
      "cell_type": "markdown",
      "source": [
        "From the displayed results, we can see that the first model has a higher accuracy, meaning the first model is better in predicting images compared to the second model. Even after hypertuning, there is no significant increase in accuracy of the second model."
      ],
      "metadata": {
        "id": "LSpa84hm-_VZ"
      }
    }
  ],
  "metadata": {
    "accelerator": "GPU",
    "colab": {
      "provenance": [],
      "include_colab_link": true
    },
    "gpuClass": "standard",
    "kernelspec": {
      "display_name": "Python 3",
      "name": "python3"
    },
    "language_info": {
      "name": "python"
    }
  },
  "nbformat": 4,
  "nbformat_minor": 0
}